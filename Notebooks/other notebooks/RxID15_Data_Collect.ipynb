{
  "nbformat": 4,
  "nbformat_minor": 0,
  "metadata": {
    "kernelspec": {
      "display_name": "Python 3",
      "language": "python",
      "name": "python3"
    },
    "language_info": {
      "codemirror_mode": {
        "name": "ipython",
        "version": 3
      },
      "file_extension": ".py",
      "mimetype": "text/x-python",
      "name": "python",
      "nbconvert_exporter": "python",
      "pygments_lexer": "ipython3",
      "version": "3.7.7"
    },
    "colab": {
      "name": "RxID15 Data Collect.ipynb",
      "provenance": [],
      "collapsed_sections": [],
      "toc_visible": true
    }
  },
  "cells": [
    {
      "cell_type": "code",
      "metadata": {
        "id": "qC77O9Gbcl0l",
        "colab_type": "code",
        "outputId": "49011e1c-d6d2-4ea6-8af6-b86c671b62e6",
        "colab": {
          "base_uri": "https://localhost:8080/",
          "height": 115
        }
      },
      "source": [
        "import pandas as pd\n",
        "import requests\n",
        "from IPython.display import Image\n",
        "import time\n",
        "from ftplib import FTP\n",
        "\n",
        "from PIL import Image\n",
        "from PIL import ImageFile\n",
        "\n",
        "! pip install rawpy\n",
        "import rawpy\n",
        "import imageio\n",
        "ImageFile.LOAD_TRUNCATED_IMAGES = True\n",
        "\n",
        "\n",
        "import os, shutil\n",
        "\n",
        "import os\n",
        "import sys\n",
        "\n",
        "import matplotlib.pyplot as plt\n",
        "import matplotlib.image as mpimg"
      ],
      "execution_count": 0,
      "outputs": [
        {
          "output_type": "stream",
          "text": [
            "Collecting rawpy\n",
            "\u001b[?25l  Downloading https://files.pythonhosted.org/packages/53/50/13dd9863a3e30b10f15e5abe7c1545db24a78cfe820c342978ae5d87e8c3/rawpy-0.14.0-cp36-cp36m-manylinux2010_x86_64.whl (1.6MB)\n",
            "\u001b[K     |████████████████████████████████| 1.6MB 2.8MB/s \n",
            "\u001b[?25hRequirement already satisfied: numpy in /usr/local/lib/python3.6/dist-packages (from rawpy) (1.18.4)\n",
            "Installing collected packages: rawpy\n",
            "Successfully installed rawpy-0.14.0\n"
          ],
          "name": "stdout"
        }
      ]
    },
    {
      "cell_type": "code",
      "metadata": {
        "id": "5KOfGcHac_t5",
        "colab_type": "code",
        "outputId": "226ff6d3-9637-4f8f-faf6-d85153916b9a",
        "colab": {
          "base_uri": "https://localhost:8080/",
          "height": 118
        }
      },
      "source": [
        "from google.colab import drive\n",
        "drive.mount('/content/drive')"
      ],
      "execution_count": 0,
      "outputs": [
        {
          "output_type": "stream",
          "text": [
            "Go to this URL in a browser: https://accounts.google.com/o/oauth2/auth?client_id=947318989803-6bn6qk8qdgf4n4g3pfee6491hc0brc4i.apps.googleusercontent.com&redirect_uri=urn%3aietf%3awg%3aoauth%3a2.0%3aoob&response_type=code&scope=email%20https%3a%2f%2fwww.googleapis.com%2fauth%2fdocs.test%20https%3a%2f%2fwww.googleapis.com%2fauth%2fdrive%20https%3a%2f%2fwww.googleapis.com%2fauth%2fdrive.photos.readonly%20https%3a%2f%2fwww.googleapis.com%2fauth%2fpeopleapi.readonly\n",
            "\n",
            "Enter your authorization code:\n",
            "··········\n",
            "Mounted at /content/drive\n"
          ],
          "name": "stdout"
        }
      ]
    },
    {
      "cell_type": "code",
      "metadata": {
        "id": "NCEY1Fdlcl0q",
        "colab_type": "code",
        "colab": {}
      },
      "source": [
        "imagecount = 50"
      ],
      "execution_count": 0,
      "outputs": []
    },
    {
      "cell_type": "code",
      "metadata": {
        "id": "gxjoDGn8cl0v",
        "colab_type": "code",
        "colab": {}
      },
      "source": [
        "typdict = {'NDC':'str'}\n",
        "df = pd.read_csv('/content/drive/My Drive/Project: Pill ID/Data/directory_of_images.txt',sep='|', dtype=typdict, names=['NDC','IDK','FILE','TYPE','DRUG'])\n",
        "df = df.dropna()\n",
        "df.DRUG = df.DRUG.str.upper()\n",
        "df[['ORIG_FOLDER','IMAGES','FILENAME']] = df.FILE.str.split('/', expand=True)\n",
        "df['FILETYPE'] = df.FILENAME.str[-4:]\n",
        "df = df[df.FILETYPE != '.WMV']"
      ],
      "execution_count": 0,
      "outputs": []
    },
    {
      "cell_type": "code",
      "metadata": {
        "id": "bRzDtojBcl0y",
        "colab_type": "code",
        "outputId": "1c5527c9-61e8-490e-f595-50f241443072",
        "colab": {
          "base_uri": "https://localhost:8080/",
          "height": 411
        }
      },
      "source": [
        "ndcs = df.NDC.value_counts()\n",
        "n = ndcs[ndcs == imagecount].index\n",
        "# #n100 = ndcs[ndcs <= 100].index\n",
        "# ndcs50100 = list(set(n50) & set(n100))\n",
        "dfn = df[df.NDC.isin(n)]\n",
        "dfn"
      ],
      "execution_count": 0,
      "outputs": [
        {
          "output_type": "execute_result",
          "data": {
            "text/html": [
              "<div>\n",
              "<style scoped>\n",
              "    .dataframe tbody tr th:only-of-type {\n",
              "        vertical-align: middle;\n",
              "    }\n",
              "\n",
              "    .dataframe tbody tr th {\n",
              "        vertical-align: top;\n",
              "    }\n",
              "\n",
              "    .dataframe thead th {\n",
              "        text-align: right;\n",
              "    }\n",
              "</style>\n",
              "<table border=\"1\" class=\"dataframe\">\n",
              "  <thead>\n",
              "    <tr style=\"text-align: right;\">\n",
              "      <th></th>\n",
              "      <th>NDC</th>\n",
              "      <th>IDK</th>\n",
              "      <th>FILE</th>\n",
              "      <th>TYPE</th>\n",
              "      <th>DRUG</th>\n",
              "      <th>ORIG_FOLDER</th>\n",
              "      <th>IMAGES</th>\n",
              "      <th>FILENAME</th>\n",
              "      <th>FILETYPE</th>\n",
              "    </tr>\n",
              "  </thead>\n",
              "  <tbody>\n",
              "    <tr>\n",
              "      <th>1226</th>\n",
              "      <td>00006074554</td>\n",
              "      <td>1</td>\n",
              "      <td>PillProjectDisc24/images/B7VF6YKZAKU7R6RH9PJC6...</td>\n",
              "      <td>C3PI_Reference</td>\n",
              "      <td>HYZAAR TAB 100-12.5</td>\n",
              "      <td>PillProjectDisc24</td>\n",
              "      <td>images</td>\n",
              "      <td>B7VF6YKZAKU7R6RH9PJC6-Q3QNJYYO4.CR2</td>\n",
              "      <td>.CR2</td>\n",
              "    </tr>\n",
              "    <tr>\n",
              "      <th>1227</th>\n",
              "      <td>00006074554</td>\n",
              "      <td>1</td>\n",
              "      <td>PillProjectDisc53/images/BZRBET5WWF01MHM0TS8UA...</td>\n",
              "      <td>C3PI_Reference</td>\n",
              "      <td>HYZAAR TAB 100-12.5</td>\n",
              "      <td>PillProjectDisc53</td>\n",
              "      <td>images</td>\n",
              "      <td>BZRBET5WWF01MHM0TS8UAJE_XKVUZV8.CR2</td>\n",
              "      <td>.CR2</td>\n",
              "    </tr>\n",
              "    <tr>\n",
              "      <th>1228</th>\n",
              "      <td>00006074554</td>\n",
              "      <td>1</td>\n",
              "      <td>PillProjectDisc106/images/W7_68M2JGM2VVC-5BAJU...</td>\n",
              "      <td>C3PI_Test</td>\n",
              "      <td>HYZAAR TAB 100-12.5</td>\n",
              "      <td>PillProjectDisc106</td>\n",
              "      <td>images</td>\n",
              "      <td>W7_68M2JGM2VVC-5BAJURW0-MELXXR.JPG</td>\n",
              "      <td>.JPG</td>\n",
              "    </tr>\n",
              "    <tr>\n",
              "      <th>1229</th>\n",
              "      <td>00006074554</td>\n",
              "      <td>1</td>\n",
              "      <td>PillProjectDisc109/images/ZSLAKUF3PNEZFLJIRVSV...</td>\n",
              "      <td>C3PI_Test</td>\n",
              "      <td>HYZAAR TAB 100-12.5</td>\n",
              "      <td>PillProjectDisc109</td>\n",
              "      <td>images</td>\n",
              "      <td>ZSLAKUF3PNEZFLJIRVSV6-ZS7V7-QL.JPG</td>\n",
              "      <td>.JPG</td>\n",
              "    </tr>\n",
              "    <tr>\n",
              "      <th>1230</th>\n",
              "      <td>00006074554</td>\n",
              "      <td>1</td>\n",
              "      <td>PillProjectDisc11/images/7RPWFG3ZF3E0LL1L!4TBA...</td>\n",
              "      <td>C3PI_Test</td>\n",
              "      <td>HYZAAR TAB 100-12.5</td>\n",
              "      <td>PillProjectDisc11</td>\n",
              "      <td>images</td>\n",
              "      <td>7RPWFG3ZF3E0LL1L!4TBAD7BD_WGWY.JPG</td>\n",
              "      <td>.JPG</td>\n",
              "    </tr>\n",
              "    <tr>\n",
              "      <th>...</th>\n",
              "      <td>...</td>\n",
              "      <td>...</td>\n",
              "      <td>...</td>\n",
              "      <td>...</td>\n",
              "      <td>...</td>\n",
              "      <td>...</td>\n",
              "      <td>...</td>\n",
              "      <td>...</td>\n",
              "      <td>...</td>\n",
              "    </tr>\n",
              "    <tr>\n",
              "      <th>124244</th>\n",
              "      <td>65862019905</td>\n",
              "      <td>1</td>\n",
              "      <td>PillProjectDisc20/images/B48ZJ0_NS_D9U78ON7-GM...</td>\n",
              "      <td>MC_COOKED_CALIBRATED_V1.2</td>\n",
              "      <td>GABAPENTIN 300MG CAP</td>\n",
              "      <td>PillProjectDisc20</td>\n",
              "      <td>images</td>\n",
              "      <td>B48ZJ0_NS_D9U78ON7-GM3UGB26UI1W.PNG</td>\n",
              "      <td>.PNG</td>\n",
              "    </tr>\n",
              "    <tr>\n",
              "      <th>124245</th>\n",
              "      <td>65862019905</td>\n",
              "      <td>1</td>\n",
              "      <td>PillProjectDisc53/images/BZ1FSXTOE4T22MSGJXFRT...</td>\n",
              "      <td>MC_COOKED_CALIBRATED_V1.2</td>\n",
              "      <td>GABAPENTIN 300MG CAP</td>\n",
              "      <td>PillProjectDisc53</td>\n",
              "      <td>images</td>\n",
              "      <td>BZ1FSXTOE4T22MSGJXFRTL16HYT8GXR.PNG</td>\n",
              "      <td>.PNG</td>\n",
              "    </tr>\n",
              "    <tr>\n",
              "      <th>124246</th>\n",
              "      <td>65862019905</td>\n",
              "      <td>1</td>\n",
              "      <td>PillProjectDisc5/images/1XUYSB3P6Q36KO510FS9BW...</td>\n",
              "      <td>MC_COOKED_CALIBRATED_V1.2</td>\n",
              "      <td>GABAPENTIN 300MG CAP</td>\n",
              "      <td>PillProjectDisc5</td>\n",
              "      <td>images</td>\n",
              "      <td>1XUYSB3P6Q36KO510FS9BWMK5GW_AQ.PNG</td>\n",
              "      <td>.PNG</td>\n",
              "    </tr>\n",
              "    <tr>\n",
              "      <th>124247</th>\n",
              "      <td>65862019905</td>\n",
              "      <td>1</td>\n",
              "      <td>PillProjectDisc66/images/CIHOS-4VFVZT8UTQZ00OY...</td>\n",
              "      <td>MC_COOKED_CALIBRATED_V1.2</td>\n",
              "      <td>GABAPENTIN 300MG CAP</td>\n",
              "      <td>PillProjectDisc66</td>\n",
              "      <td>images</td>\n",
              "      <td>CIHOS-4VFVZT8UTQZ00OYFI-M!HB4OW.PNG</td>\n",
              "      <td>.PNG</td>\n",
              "    </tr>\n",
              "    <tr>\n",
              "      <th>124248</th>\n",
              "      <td>65862019905</td>\n",
              "      <td>1</td>\n",
              "      <td>PillProjectDisc2/images/-C9U9YVLUDE71T0KQE16CX...</td>\n",
              "      <td>MC_SPL_SPLIMAGE_V3.0</td>\n",
              "      <td>GABAPENTIN 300MG CAP</td>\n",
              "      <td>PillProjectDisc2</td>\n",
              "      <td>images</td>\n",
              "      <td>-C9U9YVLUDE71T0KQE16CXA5Z1YA39.JPG</td>\n",
              "      <td>.JPG</td>\n",
              "    </tr>\n",
              "  </tbody>\n",
              "</table>\n",
              "<p>750 rows × 9 columns</p>\n",
              "</div>"
            ],
            "text/plain": [
              "                NDC  IDK  ...                             FILENAME FILETYPE\n",
              "1226    00006074554    1  ...  B7VF6YKZAKU7R6RH9PJC6-Q3QNJYYO4.CR2     .CR2\n",
              "1227    00006074554    1  ...  BZRBET5WWF01MHM0TS8UAJE_XKVUZV8.CR2     .CR2\n",
              "1228    00006074554    1  ...   W7_68M2JGM2VVC-5BAJURW0-MELXXR.JPG     .JPG\n",
              "1229    00006074554    1  ...   ZSLAKUF3PNEZFLJIRVSV6-ZS7V7-QL.JPG     .JPG\n",
              "1230    00006074554    1  ...   7RPWFG3ZF3E0LL1L!4TBAD7BD_WGWY.JPG     .JPG\n",
              "...             ...  ...  ...                                  ...      ...\n",
              "124244  65862019905    1  ...  B48ZJ0_NS_D9U78ON7-GM3UGB26UI1W.PNG     .PNG\n",
              "124245  65862019905    1  ...  BZ1FSXTOE4T22MSGJXFRTL16HYT8GXR.PNG     .PNG\n",
              "124246  65862019905    1  ...   1XUYSB3P6Q36KO510FS9BWMK5GW_AQ.PNG     .PNG\n",
              "124247  65862019905    1  ...  CIHOS-4VFVZT8UTQZ00OYFI-M!HB4OW.PNG     .PNG\n",
              "124248  65862019905    1  ...   -C9U9YVLUDE71T0KQE16CXA5Z1YA39.JPG     .JPG\n",
              "\n",
              "[750 rows x 9 columns]"
            ]
          },
          "metadata": {
            "tags": []
          },
          "execution_count": 9
        }
      ]
    },
    {
      "cell_type": "code",
      "metadata": {
        "id": "Gge3z60Fcl01",
        "colab_type": "code",
        "outputId": "67979696-8881-4030-f443-7eec93834e39",
        "colab": {
          "base_uri": "https://localhost:8080/",
          "height": 312
        }
      },
      "source": [
        "dfn.DRUG.value_counts()"
      ],
      "execution_count": 0,
      "outputs": [
        {
          "output_type": "execute_result",
          "data": {
            "text/plain": [
              "CLEOCIN 75MG CAPS             50\n",
              "GLIPIZIDE ER 10MG TAB         50\n",
              "GABAPENTIN 300MG CAP          50\n",
              "CLARITHROMYCIN 250            50\n",
              "HYDROXYZINE  HCL 10MG TABS    50\n",
              "HYOMAX-DT 0.375MG TABLET      50\n",
              "BENZONATATE CAPSULES, USP     50\n",
              "INDERAL LA CAP 160MG          50\n",
              "IBUPROFEN 600MG TAB           50\n",
              "FLUOXETINE 40MG CAP           50\n",
              "HYOMAX-FT 0.125MG TAB         50\n",
              "HCTZ 50MG TABS                50\n",
              "HYZAAR TAB 100-12.5           50\n",
              "OLANZAPINE 2.5MG TAB          33\n",
              "INDOMETHACIN CAPSULES USP     33\n",
              "INDOMETHACIN CAPSULES, USP    17\n",
              "OLANZAPINE TABLETS USP        17\n",
              "Name: DRUG, dtype: int64"
            ]
          },
          "metadata": {
            "tags": []
          },
          "execution_count": 10
        }
      ]
    },
    {
      "cell_type": "code",
      "metadata": {
        "id": "HM80mCEbcl03",
        "colab_type": "code",
        "outputId": "8cf2b957-34ba-42ab-fa5c-a938907d4a00",
        "colab": {
          "base_uri": "https://localhost:8080/",
          "height": 280
        }
      },
      "source": [
        "drugs = dfn.NDC.value_counts()\n",
        "drugslist = drugs.index.tolist()\n",
        "len(dfn.NDC.value_counts()),drugs"
      ],
      "execution_count": 0,
      "outputs": [
        {
          "output_type": "execute_result",
          "data": {
            "text/plain": [
              "(15, 55111068305    50\n",
              " 00009033102    50\n",
              " 64125013010    50\n",
              " 23155010501    50\n",
              " 24486060490    50\n",
              " 24486060310    50\n",
              " 65862019430    50\n",
              " 65862019905    50\n",
              " 24090047988    50\n",
              " 00006074554    50\n",
              " 00781196160    50\n",
              " 00555188302    50\n",
              " 00093402901    50\n",
              " 00591084510    50\n",
              " 00093576756    50\n",
              " Name: NDC, dtype: int64)"
            ]
          },
          "metadata": {
            "tags": []
          },
          "execution_count": 11
        }
      ]
    },
    {
      "cell_type": "code",
      "metadata": {
        "id": "J7FR2a-Fcl06",
        "colab_type": "code",
        "outputId": "b2482b18-b940-4ad3-bd8f-dc9ec75f5a03",
        "colab": {
          "base_uri": "https://localhost:8080/",
          "height": 565
        }
      },
      "source": [
        "df_a = dfn.groupby(['DRUG','NDC']).count()\n",
        "df_a.reset_index(inplace=True)\n",
        "drug_ndc = df_a[['DRUG','NDC']]\n",
        "drug_ndc"
      ],
      "execution_count": 0,
      "outputs": [
        {
          "output_type": "execute_result",
          "data": {
            "text/html": [
              "<div>\n",
              "<style scoped>\n",
              "    .dataframe tbody tr th:only-of-type {\n",
              "        vertical-align: middle;\n",
              "    }\n",
              "\n",
              "    .dataframe tbody tr th {\n",
              "        vertical-align: top;\n",
              "    }\n",
              "\n",
              "    .dataframe thead th {\n",
              "        text-align: right;\n",
              "    }\n",
              "</style>\n",
              "<table border=\"1\" class=\"dataframe\">\n",
              "  <thead>\n",
              "    <tr style=\"text-align: right;\">\n",
              "      <th></th>\n",
              "      <th>DRUG</th>\n",
              "      <th>NDC</th>\n",
              "    </tr>\n",
              "  </thead>\n",
              "  <tbody>\n",
              "    <tr>\n",
              "      <th>0</th>\n",
              "      <td>BENZONATATE CAPSULES, USP</td>\n",
              "      <td>00555188302</td>\n",
              "    </tr>\n",
              "    <tr>\n",
              "      <th>1</th>\n",
              "      <td>CLARITHROMYCIN 250</td>\n",
              "      <td>00781196160</td>\n",
              "    </tr>\n",
              "    <tr>\n",
              "      <th>2</th>\n",
              "      <td>CLEOCIN 75MG CAPS</td>\n",
              "      <td>00009033102</td>\n",
              "    </tr>\n",
              "    <tr>\n",
              "      <th>3</th>\n",
              "      <td>FLUOXETINE 40MG CAP</td>\n",
              "      <td>65862019430</td>\n",
              "    </tr>\n",
              "    <tr>\n",
              "      <th>4</th>\n",
              "      <td>GABAPENTIN 300MG CAP</td>\n",
              "      <td>65862019905</td>\n",
              "    </tr>\n",
              "    <tr>\n",
              "      <th>5</th>\n",
              "      <td>GLIPIZIDE ER 10MG TAB</td>\n",
              "      <td>00591084510</td>\n",
              "    </tr>\n",
              "    <tr>\n",
              "      <th>6</th>\n",
              "      <td>HCTZ 50MG TABS</td>\n",
              "      <td>64125013010</td>\n",
              "    </tr>\n",
              "    <tr>\n",
              "      <th>7</th>\n",
              "      <td>HYDROXYZINE  HCL 10MG TABS</td>\n",
              "      <td>23155010501</td>\n",
              "    </tr>\n",
              "    <tr>\n",
              "      <th>8</th>\n",
              "      <td>HYOMAX-DT 0.375MG TABLET</td>\n",
              "      <td>24486060490</td>\n",
              "    </tr>\n",
              "    <tr>\n",
              "      <th>9</th>\n",
              "      <td>HYOMAX-FT 0.125MG TAB</td>\n",
              "      <td>24486060310</td>\n",
              "    </tr>\n",
              "    <tr>\n",
              "      <th>10</th>\n",
              "      <td>HYZAAR TAB 100-12.5</td>\n",
              "      <td>00006074554</td>\n",
              "    </tr>\n",
              "    <tr>\n",
              "      <th>11</th>\n",
              "      <td>IBUPROFEN 600MG TAB</td>\n",
              "      <td>55111068305</td>\n",
              "    </tr>\n",
              "    <tr>\n",
              "      <th>12</th>\n",
              "      <td>INDERAL LA CAP 160MG</td>\n",
              "      <td>24090047988</td>\n",
              "    </tr>\n",
              "    <tr>\n",
              "      <th>13</th>\n",
              "      <td>INDOMETHACIN CAPSULES USP</td>\n",
              "      <td>00093402901</td>\n",
              "    </tr>\n",
              "    <tr>\n",
              "      <th>14</th>\n",
              "      <td>INDOMETHACIN CAPSULES, USP</td>\n",
              "      <td>00093402901</td>\n",
              "    </tr>\n",
              "    <tr>\n",
              "      <th>15</th>\n",
              "      <td>OLANZAPINE 2.5MG TAB</td>\n",
              "      <td>00093576756</td>\n",
              "    </tr>\n",
              "    <tr>\n",
              "      <th>16</th>\n",
              "      <td>OLANZAPINE TABLETS USP</td>\n",
              "      <td>00093576756</td>\n",
              "    </tr>\n",
              "  </tbody>\n",
              "</table>\n",
              "</div>"
            ],
            "text/plain": [
              "                          DRUG          NDC\n",
              "0    BENZONATATE CAPSULES, USP  00555188302\n",
              "1           CLARITHROMYCIN 250  00781196160\n",
              "2            CLEOCIN 75MG CAPS  00009033102\n",
              "3          FLUOXETINE 40MG CAP  65862019430\n",
              "4         GABAPENTIN 300MG CAP  65862019905\n",
              "5        GLIPIZIDE ER 10MG TAB  00591084510\n",
              "6               HCTZ 50MG TABS  64125013010\n",
              "7   HYDROXYZINE  HCL 10MG TABS  23155010501\n",
              "8     HYOMAX-DT 0.375MG TABLET  24486060490\n",
              "9        HYOMAX-FT 0.125MG TAB  24486060310\n",
              "10         HYZAAR TAB 100-12.5  00006074554\n",
              "11         IBUPROFEN 600MG TAB  55111068305\n",
              "12        INDERAL LA CAP 160MG  24090047988\n",
              "13   INDOMETHACIN CAPSULES USP  00093402901\n",
              "14  INDOMETHACIN CAPSULES, USP  00093402901\n",
              "15        OLANZAPINE 2.5MG TAB  00093576756\n",
              "16      OLANZAPINE TABLETS USP  00093576756"
            ]
          },
          "metadata": {
            "tags": []
          },
          "execution_count": 12
        }
      ]
    },
    {
      "cell_type": "code",
      "metadata": {
        "id": "hjhTPr--cl08",
        "colab_type": "code",
        "colab": {}
      },
      "source": [
        "droplist = []\n",
        "\n",
        "df = dfn[~dfn.NDC.isin(droplist)]"
      ],
      "execution_count": 0,
      "outputs": []
    },
    {
      "cell_type": "code",
      "metadata": {
        "id": "K-hC3Zuwcl0-",
        "colab_type": "code",
        "colab": {}
      },
      "source": [
        "df.DRUG[df.NDC == '00555188302'] = 'BENZONATATE'\n",
        "df.DRUG[df.NDC == '00781196160'] = 'CLARITHROMYCIN 250MG'\n",
        "df.DRUG[df.NDC == '00009033102'] = 'CLEOCIN 75MG'\n",
        "df.DRUG[df.NDC == '65862019430'] = 'FLUOXETINE 40MG '\n",
        "df.DRUG[df.NDC == '65862019905'] = 'GABAPENTIN 300MG'\n",
        "df.DRUG[df.NDC == '00591084510'] = 'GLIPIZIDE ER 10MG'\n",
        "df.DRUG[df.NDC == '64125013010'] = 'HCTZ 50MG'\n",
        "df.DRUG[df.NDC == '23155010501'] = 'HYDROXYZINE HCL 10MG'\n",
        "df.DRUG[df.NDC == '24486060490'] = 'HYOMAX-DT 0.375MG'\n",
        "df.DRUG[df.NDC == '24486060310'] = 'HYOMAX-FT 0.125MG'\n",
        "df.DRUG[df.NDC == '00006074554'] = 'HYZAAR 100-12.'\n",
        "df.DRUG[df.NDC == '55111068305'] = 'IBUPROFEN 600MG'\n",
        "df.DRUG[df.NDC == '24090047988'] = 'INDERAL LA 160MG'\n",
        "df.DRUG[df.NDC == '00093402901'] = 'INDOMETHACIN'\n",
        "df.DRUG[df.NDC == '00093576756'] = 'OLANZAPINE 2.5MG'"
      ],
      "execution_count": 0,
      "outputs": []
    },
    {
      "cell_type": "code",
      "metadata": {
        "id": "7HNRTIzdcl1A",
        "colab_type": "code",
        "outputId": "960b99e8-5316-4bc7-8144-10ea1cce1e29",
        "colab": {
          "base_uri": "https://localhost:8080/",
          "height": 411
        }
      },
      "source": [
        "df"
      ],
      "execution_count": 0,
      "outputs": [
        {
          "output_type": "execute_result",
          "data": {
            "text/html": [
              "<div>\n",
              "<style scoped>\n",
              "    .dataframe tbody tr th:only-of-type {\n",
              "        vertical-align: middle;\n",
              "    }\n",
              "\n",
              "    .dataframe tbody tr th {\n",
              "        vertical-align: top;\n",
              "    }\n",
              "\n",
              "    .dataframe thead th {\n",
              "        text-align: right;\n",
              "    }\n",
              "</style>\n",
              "<table border=\"1\" class=\"dataframe\">\n",
              "  <thead>\n",
              "    <tr style=\"text-align: right;\">\n",
              "      <th></th>\n",
              "      <th>NDC</th>\n",
              "      <th>IDK</th>\n",
              "      <th>FILE</th>\n",
              "      <th>TYPE</th>\n",
              "      <th>DRUG</th>\n",
              "      <th>ORIG_FOLDER</th>\n",
              "      <th>IMAGES</th>\n",
              "      <th>FILENAME</th>\n",
              "      <th>FILETYPE</th>\n",
              "    </tr>\n",
              "  </thead>\n",
              "  <tbody>\n",
              "    <tr>\n",
              "      <th>1226</th>\n",
              "      <td>00006074554</td>\n",
              "      <td>1</td>\n",
              "      <td>PillProjectDisc24/images/B7VF6YKZAKU7R6RH9PJC6...</td>\n",
              "      <td>C3PI_Reference</td>\n",
              "      <td>HYZAAR TAB 100-12.5</td>\n",
              "      <td>PillProjectDisc24</td>\n",
              "      <td>images</td>\n",
              "      <td>B7VF6YKZAKU7R6RH9PJC6-Q3QNJYYO4.CR2</td>\n",
              "      <td>.CR2</td>\n",
              "    </tr>\n",
              "    <tr>\n",
              "      <th>1227</th>\n",
              "      <td>00006074554</td>\n",
              "      <td>1</td>\n",
              "      <td>PillProjectDisc53/images/BZRBET5WWF01MHM0TS8UA...</td>\n",
              "      <td>C3PI_Reference</td>\n",
              "      <td>HYZAAR TAB 100-12.5</td>\n",
              "      <td>PillProjectDisc53</td>\n",
              "      <td>images</td>\n",
              "      <td>BZRBET5WWF01MHM0TS8UAJE_XKVUZV8.CR2</td>\n",
              "      <td>.CR2</td>\n",
              "    </tr>\n",
              "    <tr>\n",
              "      <th>1228</th>\n",
              "      <td>00006074554</td>\n",
              "      <td>1</td>\n",
              "      <td>PillProjectDisc106/images/W7_68M2JGM2VVC-5BAJU...</td>\n",
              "      <td>C3PI_Test</td>\n",
              "      <td>HYZAAR TAB 100-12.5</td>\n",
              "      <td>PillProjectDisc106</td>\n",
              "      <td>images</td>\n",
              "      <td>W7_68M2JGM2VVC-5BAJURW0-MELXXR.JPG</td>\n",
              "      <td>.JPG</td>\n",
              "    </tr>\n",
              "    <tr>\n",
              "      <th>1229</th>\n",
              "      <td>00006074554</td>\n",
              "      <td>1</td>\n",
              "      <td>PillProjectDisc109/images/ZSLAKUF3PNEZFLJIRVSV...</td>\n",
              "      <td>C3PI_Test</td>\n",
              "      <td>HYZAAR TAB 100-12.5</td>\n",
              "      <td>PillProjectDisc109</td>\n",
              "      <td>images</td>\n",
              "      <td>ZSLAKUF3PNEZFLJIRVSV6-ZS7V7-QL.JPG</td>\n",
              "      <td>.JPG</td>\n",
              "    </tr>\n",
              "    <tr>\n",
              "      <th>1230</th>\n",
              "      <td>00006074554</td>\n",
              "      <td>1</td>\n",
              "      <td>PillProjectDisc11/images/7RPWFG3ZF3E0LL1L!4TBA...</td>\n",
              "      <td>C3PI_Test</td>\n",
              "      <td>HYZAAR TAB 100-12.5</td>\n",
              "      <td>PillProjectDisc11</td>\n",
              "      <td>images</td>\n",
              "      <td>7RPWFG3ZF3E0LL1L!4TBAD7BD_WGWY.JPG</td>\n",
              "      <td>.JPG</td>\n",
              "    </tr>\n",
              "    <tr>\n",
              "      <th>...</th>\n",
              "      <td>...</td>\n",
              "      <td>...</td>\n",
              "      <td>...</td>\n",
              "      <td>...</td>\n",
              "      <td>...</td>\n",
              "      <td>...</td>\n",
              "      <td>...</td>\n",
              "      <td>...</td>\n",
              "      <td>...</td>\n",
              "    </tr>\n",
              "    <tr>\n",
              "      <th>124244</th>\n",
              "      <td>65862019905</td>\n",
              "      <td>1</td>\n",
              "      <td>PillProjectDisc20/images/B48ZJ0_NS_D9U78ON7-GM...</td>\n",
              "      <td>MC_COOKED_CALIBRATED_V1.2</td>\n",
              "      <td>GABAPENTIN 300MG CAP</td>\n",
              "      <td>PillProjectDisc20</td>\n",
              "      <td>images</td>\n",
              "      <td>B48ZJ0_NS_D9U78ON7-GM3UGB26UI1W.PNG</td>\n",
              "      <td>.PNG</td>\n",
              "    </tr>\n",
              "    <tr>\n",
              "      <th>124245</th>\n",
              "      <td>65862019905</td>\n",
              "      <td>1</td>\n",
              "      <td>PillProjectDisc53/images/BZ1FSXTOE4T22MSGJXFRT...</td>\n",
              "      <td>MC_COOKED_CALIBRATED_V1.2</td>\n",
              "      <td>GABAPENTIN 300MG CAP</td>\n",
              "      <td>PillProjectDisc53</td>\n",
              "      <td>images</td>\n",
              "      <td>BZ1FSXTOE4T22MSGJXFRTL16HYT8GXR.PNG</td>\n",
              "      <td>.PNG</td>\n",
              "    </tr>\n",
              "    <tr>\n",
              "      <th>124246</th>\n",
              "      <td>65862019905</td>\n",
              "      <td>1</td>\n",
              "      <td>PillProjectDisc5/images/1XUYSB3P6Q36KO510FS9BW...</td>\n",
              "      <td>MC_COOKED_CALIBRATED_V1.2</td>\n",
              "      <td>GABAPENTIN 300MG CAP</td>\n",
              "      <td>PillProjectDisc5</td>\n",
              "      <td>images</td>\n",
              "      <td>1XUYSB3P6Q36KO510FS9BWMK5GW_AQ.PNG</td>\n",
              "      <td>.PNG</td>\n",
              "    </tr>\n",
              "    <tr>\n",
              "      <th>124247</th>\n",
              "      <td>65862019905</td>\n",
              "      <td>1</td>\n",
              "      <td>PillProjectDisc66/images/CIHOS-4VFVZT8UTQZ00OY...</td>\n",
              "      <td>MC_COOKED_CALIBRATED_V1.2</td>\n",
              "      <td>GABAPENTIN 300MG CAP</td>\n",
              "      <td>PillProjectDisc66</td>\n",
              "      <td>images</td>\n",
              "      <td>CIHOS-4VFVZT8UTQZ00OYFI-M!HB4OW.PNG</td>\n",
              "      <td>.PNG</td>\n",
              "    </tr>\n",
              "    <tr>\n",
              "      <th>124248</th>\n",
              "      <td>65862019905</td>\n",
              "      <td>1</td>\n",
              "      <td>PillProjectDisc2/images/-C9U9YVLUDE71T0KQE16CX...</td>\n",
              "      <td>MC_SPL_SPLIMAGE_V3.0</td>\n",
              "      <td>GABAPENTIN 300MG CAP</td>\n",
              "      <td>PillProjectDisc2</td>\n",
              "      <td>images</td>\n",
              "      <td>-C9U9YVLUDE71T0KQE16CXA5Z1YA39.JPG</td>\n",
              "      <td>.JPG</td>\n",
              "    </tr>\n",
              "  </tbody>\n",
              "</table>\n",
              "<p>750 rows × 9 columns</p>\n",
              "</div>"
            ],
            "text/plain": [
              "                NDC  IDK  ...                             FILENAME FILETYPE\n",
              "1226    00006074554    1  ...  B7VF6YKZAKU7R6RH9PJC6-Q3QNJYYO4.CR2     .CR2\n",
              "1227    00006074554    1  ...  BZRBET5WWF01MHM0TS8UAJE_XKVUZV8.CR2     .CR2\n",
              "1228    00006074554    1  ...   W7_68M2JGM2VVC-5BAJURW0-MELXXR.JPG     .JPG\n",
              "1229    00006074554    1  ...   ZSLAKUF3PNEZFLJIRVSV6-ZS7V7-QL.JPG     .JPG\n",
              "1230    00006074554    1  ...   7RPWFG3ZF3E0LL1L!4TBAD7BD_WGWY.JPG     .JPG\n",
              "...             ...  ...  ...                                  ...      ...\n",
              "124244  65862019905    1  ...  B48ZJ0_NS_D9U78ON7-GM3UGB26UI1W.PNG     .PNG\n",
              "124245  65862019905    1  ...  BZ1FSXTOE4T22MSGJXFRTL16HYT8GXR.PNG     .PNG\n",
              "124246  65862019905    1  ...   1XUYSB3P6Q36KO510FS9BWMK5GW_AQ.PNG     .PNG\n",
              "124247  65862019905    1  ...  CIHOS-4VFVZT8UTQZ00OYFI-M!HB4OW.PNG     .PNG\n",
              "124248  65862019905    1  ...   -C9U9YVLUDE71T0KQE16CXA5Z1YA39.JPG     .JPG\n",
              "\n",
              "[750 rows x 9 columns]"
            ]
          },
          "metadata": {
            "tags": []
          },
          "execution_count": 17
        }
      ]
    },
    {
      "cell_type": "code",
      "metadata": {
        "id": "PAzss3xOcl1C",
        "colab_type": "code",
        "outputId": "e0eeb3f4-1a99-4916-c8fd-e127f60ec24a",
        "colab": {
          "base_uri": "https://localhost:8080/",
          "height": 312
        }
      },
      "source": [
        "df.DRUG.value_counts()"
      ],
      "execution_count": 0,
      "outputs": [
        {
          "output_type": "execute_result",
          "data": {
            "text/plain": [
              "CLEOCIN 75MG CAPS             50\n",
              "GLIPIZIDE ER 10MG TAB         50\n",
              "GABAPENTIN 300MG CAP          50\n",
              "CLARITHROMYCIN 250            50\n",
              "HYDROXYZINE  HCL 10MG TABS    50\n",
              "HYOMAX-DT 0.375MG TABLET      50\n",
              "BENZONATATE CAPSULES, USP     50\n",
              "INDERAL LA CAP 160MG          50\n",
              "IBUPROFEN 600MG TAB           50\n",
              "FLUOXETINE 40MG CAP           50\n",
              "HYOMAX-FT 0.125MG TAB         50\n",
              "HCTZ 50MG TABS                50\n",
              "HYZAAR TAB 100-12.5           50\n",
              "OLANZAPINE 2.5MG TAB          33\n",
              "INDOMETHACIN CAPSULES USP     33\n",
              "INDOMETHACIN CAPSULES, USP    17\n",
              "OLANZAPINE TABLETS USP        17\n",
              "Name: DRUG, dtype: int64"
            ]
          },
          "metadata": {
            "tags": []
          },
          "execution_count": 15
        }
      ]
    },
    {
      "cell_type": "code",
      "metadata": {
        "id": "B2ZEUM0Ncl1E",
        "colab_type": "code",
        "outputId": "75c22d6e-c4cd-49a2-a025-43bc00016ce5",
        "colab": {
          "base_uri": "https://localhost:8080/",
          "height": 565
        }
      },
      "source": [
        "df_a = df.groupby(['DRUG','NDC']).count()\n",
        "df_a.reset_index(inplace=True)\n",
        "drug_ndc = df_a[['DRUG','NDC']]\n",
        "drug_ndc"
      ],
      "execution_count": 0,
      "outputs": [
        {
          "output_type": "execute_result",
          "data": {
            "text/html": [
              "<div>\n",
              "<style scoped>\n",
              "    .dataframe tbody tr th:only-of-type {\n",
              "        vertical-align: middle;\n",
              "    }\n",
              "\n",
              "    .dataframe tbody tr th {\n",
              "        vertical-align: top;\n",
              "    }\n",
              "\n",
              "    .dataframe thead th {\n",
              "        text-align: right;\n",
              "    }\n",
              "</style>\n",
              "<table border=\"1\" class=\"dataframe\">\n",
              "  <thead>\n",
              "    <tr style=\"text-align: right;\">\n",
              "      <th></th>\n",
              "      <th>DRUG</th>\n",
              "      <th>NDC</th>\n",
              "    </tr>\n",
              "  </thead>\n",
              "  <tbody>\n",
              "    <tr>\n",
              "      <th>0</th>\n",
              "      <td>BENZONATATE CAPSULES, USP</td>\n",
              "      <td>00555188302</td>\n",
              "    </tr>\n",
              "    <tr>\n",
              "      <th>1</th>\n",
              "      <td>CLARITHROMYCIN 250</td>\n",
              "      <td>00781196160</td>\n",
              "    </tr>\n",
              "    <tr>\n",
              "      <th>2</th>\n",
              "      <td>CLEOCIN 75MG CAPS</td>\n",
              "      <td>00009033102</td>\n",
              "    </tr>\n",
              "    <tr>\n",
              "      <th>3</th>\n",
              "      <td>FLUOXETINE 40MG CAP</td>\n",
              "      <td>65862019430</td>\n",
              "    </tr>\n",
              "    <tr>\n",
              "      <th>4</th>\n",
              "      <td>GABAPENTIN 300MG CAP</td>\n",
              "      <td>65862019905</td>\n",
              "    </tr>\n",
              "    <tr>\n",
              "      <th>5</th>\n",
              "      <td>GLIPIZIDE ER 10MG TAB</td>\n",
              "      <td>00591084510</td>\n",
              "    </tr>\n",
              "    <tr>\n",
              "      <th>6</th>\n",
              "      <td>HCTZ 50MG TABS</td>\n",
              "      <td>64125013010</td>\n",
              "    </tr>\n",
              "    <tr>\n",
              "      <th>7</th>\n",
              "      <td>HYDROXYZINE  HCL 10MG TABS</td>\n",
              "      <td>23155010501</td>\n",
              "    </tr>\n",
              "    <tr>\n",
              "      <th>8</th>\n",
              "      <td>HYOMAX-DT 0.375MG TABLET</td>\n",
              "      <td>24486060490</td>\n",
              "    </tr>\n",
              "    <tr>\n",
              "      <th>9</th>\n",
              "      <td>HYOMAX-FT 0.125MG TAB</td>\n",
              "      <td>24486060310</td>\n",
              "    </tr>\n",
              "    <tr>\n",
              "      <th>10</th>\n",
              "      <td>HYZAAR TAB 100-12.5</td>\n",
              "      <td>00006074554</td>\n",
              "    </tr>\n",
              "    <tr>\n",
              "      <th>11</th>\n",
              "      <td>IBUPROFEN 600MG TAB</td>\n",
              "      <td>55111068305</td>\n",
              "    </tr>\n",
              "    <tr>\n",
              "      <th>12</th>\n",
              "      <td>INDERAL LA CAP 160MG</td>\n",
              "      <td>24090047988</td>\n",
              "    </tr>\n",
              "    <tr>\n",
              "      <th>13</th>\n",
              "      <td>INDOMETHACIN CAPSULES USP</td>\n",
              "      <td>00093402901</td>\n",
              "    </tr>\n",
              "    <tr>\n",
              "      <th>14</th>\n",
              "      <td>INDOMETHACIN CAPSULES, USP</td>\n",
              "      <td>00093402901</td>\n",
              "    </tr>\n",
              "    <tr>\n",
              "      <th>15</th>\n",
              "      <td>OLANZAPINE 2.5MG TAB</td>\n",
              "      <td>00093576756</td>\n",
              "    </tr>\n",
              "    <tr>\n",
              "      <th>16</th>\n",
              "      <td>OLANZAPINE TABLETS USP</td>\n",
              "      <td>00093576756</td>\n",
              "    </tr>\n",
              "  </tbody>\n",
              "</table>\n",
              "</div>"
            ],
            "text/plain": [
              "                          DRUG          NDC\n",
              "0    BENZONATATE CAPSULES, USP  00555188302\n",
              "1           CLARITHROMYCIN 250  00781196160\n",
              "2            CLEOCIN 75MG CAPS  00009033102\n",
              "3          FLUOXETINE 40MG CAP  65862019430\n",
              "4         GABAPENTIN 300MG CAP  65862019905\n",
              "5        GLIPIZIDE ER 10MG TAB  00591084510\n",
              "6               HCTZ 50MG TABS  64125013010\n",
              "7   HYDROXYZINE  HCL 10MG TABS  23155010501\n",
              "8     HYOMAX-DT 0.375MG TABLET  24486060490\n",
              "9        HYOMAX-FT 0.125MG TAB  24486060310\n",
              "10         HYZAAR TAB 100-12.5  00006074554\n",
              "11         IBUPROFEN 600MG TAB  55111068305\n",
              "12        INDERAL LA CAP 160MG  24090047988\n",
              "13   INDOMETHACIN CAPSULES USP  00093402901\n",
              "14  INDOMETHACIN CAPSULES, USP  00093402901\n",
              "15        OLANZAPINE 2.5MG TAB  00093576756\n",
              "16      OLANZAPINE TABLETS USP  00093576756"
            ]
          },
          "metadata": {
            "tags": []
          },
          "execution_count": 18
        }
      ]
    },
    {
      "cell_type": "markdown",
      "metadata": {
        "id": "MVMWkzSScl1G",
        "colab_type": "text"
      },
      "source": [
        "## Sample Batch"
      ]
    },
    {
      "cell_type": "code",
      "metadata": {
        "id": "_wMdAdEpcl1G",
        "colab_type": "code",
        "colab": {}
      },
      "source": [
        "samplesdf = df.groupby(['NDC']).min().reset_index()\n",
        "sampleslist = samplesdf.FILE.tolist()\n",
        "sampleslist.sort()\n",
        "\n",
        "ftpdir = {}\n",
        "for i in range(0,len(sampleslist)):\n",
        "    ftpcall = sampleslist[i].split('/')\n",
        "    ftppath = ftpcall[0]+'/'+ftpcall[1]+ '/'\n",
        "    ftpfile = ftpcall[-1]\n",
        "    ftpdir.setdefault(ftppath,[])\n",
        "    ftpdir[ftppath].append(ftpfile)"
      ],
      "execution_count": 0,
      "outputs": []
    },
    {
      "cell_type": "code",
      "metadata": {
        "id": "Q6JJNsWZcl1N",
        "colab_type": "code",
        "outputId": "04099698-4b05-40ac-9c99-0bfe08a4fa15",
        "colab": {
          "base_uri": "https://localhost:8080/",
          "height": 65
        }
      },
      "source": [
        "%cd /content/drive/My Drive/Project: Pill ID/Data/Raw\n",
        "\n",
        "dloaded = os.listdir()\n",
        "for key in ftpdir.keys():\n",
        "    ftp = FTP('lhcftp.nlm.nih.gov')\n",
        "    ftp.login()\n",
        "    ftp.cwd('Open-Access-Datasets/Pills//')\n",
        "    ftp.cwd(key)\n",
        "    for value in ftpdir[key]:\n",
        "        if value not in dloaded:\n",
        "            with open(value, 'wb') as fp:\n",
        "                ftp.retrbinary('RETR '+ value, fp.write)\n",
        "    ftp.cwd('..')\n",
        "    ftp.cwd('..')\n",
        "%cd /content/drive/My Drive/Project: Pill ID/Data\n",
        "\n",
        "for filename in os.listdir('Raw'):\n",
        "    if filename.endswith(\".PNG\") or filename.endswith(\".JPG\"): \n",
        "        im1 = Image.open(r'Raw/{}'.format(filename))\n",
        "        rgb_im = im1.convert('RGB')\n",
        "        rgb_im.save(r'{}.JPG'.format(filename[:-4]))\n",
        "        continue\n",
        "    elif filename.endswith(\".CR2\") and os.path.getsize(filename) > 0:\n",
        "        raw = rawpy.imread('Raw/{}'.format(filename))\n",
        "        rgb = raw.postprocess()\n",
        "        imageio.imsave('{}.JPG'.format(filename[:-4]), rgb)\n",
        "        continue\n",
        "shutil.rmtree('Raw')\n",
        "\n",
        "%cd /content/drive/My Drive/Project: Pill ID/Data"
      ],
      "execution_count": 0,
      "outputs": [
        {
          "output_type": "stream",
          "text": [
            "/content/drive/My Drive/Project: Pill ID/Data/Raw\n",
            "/content/drive/My Drive/Project: Pill ID/Data\n",
            "/content/drive/My Drive/Project: Pill ID/Data\n"
          ],
          "name": "stdout"
        }
      ]
    },
    {
      "cell_type": "code",
      "metadata": {
        "id": "SWKsvzz8cl1R",
        "colab_type": "code",
        "colab": {}
      },
      "source": [
        "images = os.listdir()\n",
        "def process(filename):\n",
        "    if filename[:-4] == '.JPG':\n",
        "      image = mpimg.imread(filename)\n",
        "      plt.figure()\n",
        "      plt.imshow(image)\n",
        "\n",
        "\n",
        "for file in images:\n",
        "    process(file)"
      ],
      "execution_count": 0,
      "outputs": []
    },
    {
      "cell_type": "code",
      "metadata": {
        "id": "9zqrAicRcl1T",
        "colab_type": "code",
        "outputId": "1417cc47-baad-4d28-e23d-2f8ba72ae739",
        "colab": {
          "base_uri": "https://localhost:8080/",
          "height": 280
        }
      },
      "source": [
        "os.listdir()"
      ],
      "execution_count": 0,
      "outputs": [
        {
          "output_type": "execute_result",
          "data": {
            "text/plain": [
              "['.ipynb_checkpoints',\n",
              " '!1ECEZFCQZ5I6S0RP6IZ-T!_6Y2RXW.JPG',\n",
              " '!GAGH9SEMPWXKDD0B79O2WDHDYV_3.JPG',\n",
              " '!J0N020HAC1N9IDCYU3QJJN!5YA2A!.JPG',\n",
              " '!Y7FKLUPG3TK-OZ7A5EVQCVF420-VJ.JPG',\n",
              " '6MBF88872OTKN19TLJH!0QLNOED708.JPG',\n",
              " '6R66C0USAMBP_!SWRIXWYLZ15G9RL.JPG',\n",
              " '6UFKARR8JAS2HO771K5QNIB0!_B019.JPG',\n",
              " '6WR1PH9H_A4BS42IDTF_CNXSTS31Y-.JPG',\n",
              " '74ICS5KP_V8HXH7E06T5EIG2X717QB.JPG',\n",
              " 'QUUWWQHY9--!WSDMSB_8MJ7WZPJYNB.JPG',\n",
              " 'R05!128RGR-VT4AVU5N27CIOWQ6M5D.JPG',\n",
              " 'RH9UF_3Y8IGRT7667NHDU_OTBP3NAV.JPG',\n",
              " 'VA_4MYBY5!ICO!P3G1TCL9LG182H-C.JPG',\n",
              " 'VER41AEE7LM-9UCG7ZQ56QTE_I9S8Z.JPG',\n",
              " 'W7_68M2JGM2VVC-5BAJURW0-MELXXR.JPG']"
            ]
          },
          "metadata": {
            "tags": []
          },
          "execution_count": 46
        }
      ]
    },
    {
      "cell_type": "markdown",
      "metadata": {
        "id": "CVbN-elacl1U",
        "colab_type": "text"
      },
      "source": [
        "# Get Batch"
      ]
    },
    {
      "cell_type": "code",
      "metadata": {
        "id": "fsxKkdLAcl1V",
        "colab_type": "code",
        "outputId": "62937984-3870-4aa8-a9f9-4c1dc0397fd0",
        "colab": {}
      },
      "source": [
        "drugsftp = df.FILE.tolist()\n",
        "drugsftp.sort()\n",
        "drugsftp[:10]"
      ],
      "execution_count": 0,
      "outputs": [
        {
          "output_type": "execute_result",
          "data": {
            "text/plain": [
              "['PillProjectDisc1/images/!1ECEZFCQZ5I6S0RP6IZ-T!_6Y2RXW.PNG',\n",
              " 'PillProjectDisc1/images/!AOKWIRBTDVYLX41JNYGUE1OPO6-15.JPG',\n",
              " 'PillProjectDisc1/images/!ER_L-9UW4J0KP5FQTJ2-LQKM!FKUK.JPG',\n",
              " 'PillProjectDisc1/images/!GAGH9SEMPWXKDD0B79O2WDHDYV_3.JPG',\n",
              " 'PillProjectDisc1/images/!J0N020HAC1N9IDCYU3QJJN!5YA2A!.PNG',\n",
              " 'PillProjectDisc1/images/!Y7FKLUPG3TK-OZ7A5EVQCVF420-VJ.PNG',\n",
              " 'PillProjectDisc10/images/6MBF88872OTKN19TLJH!0QLNOED708.JPG',\n",
              " 'PillProjectDisc10/images/6MN99VY2IAUCLJKPCED_JG-ZAGUAPO.PNG',\n",
              " 'PillProjectDisc10/images/6R55YN3L0OOT3RFCFHZNUMSETXTC22.JPG',\n",
              " 'PillProjectDisc10/images/6R66C0USAMBP_!SWRIXWYLZ15G9RL.PNG']"
            ]
          },
          "metadata": {
            "tags": []
          },
          "execution_count": 18
        }
      ]
    },
    {
      "cell_type": "code",
      "metadata": {
        "id": "_CozSFdOcl1W",
        "colab_type": "code",
        "outputId": "84e98566-cc35-419b-e4ae-7fa884307bde",
        "colab": {}
      },
      "source": [
        "ftpdir = {}\n",
        "for i in range(0,len(drugsftp)):\n",
        "    ftpcall = drugsftp[i].split('/')\n",
        "    ftppath = ftpcall[0]+'/'+ftpcall[1]+ '/'\n",
        "    ftpfile = ftpcall[-1]\n",
        "    ftpdir.setdefault(ftppath,[])\n",
        "    ftpdir[ftppath].append(ftpfile)\n",
        "len(ftpdir)"
      ],
      "execution_count": 0,
      "outputs": [
        {
          "output_type": "execute_result",
          "data": {
            "text/plain": [
              "110"
            ]
          },
          "metadata": {
            "tags": []
          },
          "execution_count": 19
        }
      ]
    },
    {
      "cell_type": "code",
      "metadata": {
        "id": "yH4KmKXKcl1X",
        "colab_type": "code",
        "outputId": "cec9e92f-ff81-4ca1-a356-f065d5f7970e",
        "colab": {}
      },
      "source": [
        "%cd /Users/alphonsowoodbury/Projects/Computer_Vision-Medication_Identification/Data/Pills/raw\n",
        "\n",
        "dloaded = os.listdir()\n",
        "for key in ftpdir.keys():\n",
        "    ftp = FTP('lhcftp.nlm.nih.gov')\n",
        "    ftp.login()\n",
        "    ftp.cwd('Open-Access-Datasets/Pills//')\n",
        "    ftp.cwd(key)\n",
        "    for value in ftpdir[key]:\n",
        "        if value not in dloaded:\n",
        "            with open(value, 'wb') as fp:\n",
        "                ftp.retrbinary('RETR '+ value, fp.write)\n",
        "    ftp.cwd('..')\n",
        "    ftp.cwd('..')"
      ],
      "execution_count": 0,
      "outputs": [
        {
          "output_type": "stream",
          "text": [
            "/Users/alphonsowoodbury/Projects/Computer_Vision-Medication_Identification/Data/Pills/raw\n"
          ],
          "name": "stdout"
        }
      ]
    },
    {
      "cell_type": "code",
      "metadata": {
        "id": "g-QFNcAJcl1Y",
        "colab_type": "code",
        "colab": {}
      },
      "source": [
        ""
      ],
      "execution_count": 0,
      "outputs": []
    }
  ]
}