{
  "nbformat": 4,
  "nbformat_minor": 0,
  "metadata": {
    "colab": {
      "name": "RxID15-2_Data_Collection.ipynb",
      "provenance": [],
      "collapsed_sections": [
        "JN8VVZA7ejlj",
        "MtCLmbHqCmsS",
        "2Yu2whaMDDNE"
      ],
      "toc_visible": true,
      "include_colab_link": true
    },
    "environment": {
      "name": "tf2-gpu.2-1.m46",
      "type": "gcloud",
      "uri": "gcr.io/deeplearning-platform-release/tf2-gpu.2-1:m46"
    },
    "kernelspec": {
      "display_name": "Python 3",
      "language": "python",
      "name": "python3"
    },
    "language_info": {
      "codemirror_mode": {
        "name": "ipython",
        "version": 3
      },
      "file_extension": ".py",
      "mimetype": "text/x-python",
      "name": "python",
      "nbconvert_exporter": "python",
      "pygments_lexer": "ipython3",
      "version": "3.7.6"
    }
  },
  "cells": [
    {
      "cell_type": "markdown",
      "metadata": {
        "id": "view-in-github",
        "colab_type": "text"
      },
      "source": [
        "<a href=\"https://colab.research.google.com/github/a-woodbury/RxID/blob/master/Notebooks/RxID15_2_Data_Collection.ipynb\" target=\"_parent\"><img src=\"https://colab.research.google.com/assets/colab-badge.svg\" alt=\"Open In Colab\"/></a>"
      ]
    },
    {
      "cell_type": "markdown",
      "metadata": {
        "colab_type": "text",
        "id": "eqZqd0G_RB2x"
      },
      "source": [
        "# **RxID**\n",
        "\n",
        "RxID is a Deep Learning model for identifying medications from an image. It is trained on images from the NIH/NLM dataset, which is accessed through FTP.\n",
        "\n",
        "This notebook is designed to allow a data scientist to select the drugs they would like to include in their model, collect sample images to confirm, download the images to their local directory, and sort by class (NDC)."
      ]
    },
    {
      "cell_type": "markdown",
      "metadata": {
        "colab_type": "text",
        "id": "WeNju88YRNAr"
      },
      "source": [
        "# Setup"
      ]
    },
    {
      "cell_type": "markdown",
      "metadata": {
        "colab_type": "text",
        "id": "vJjkfHbJROv6"
      },
      "source": [
        "## Import Packages"
      ]
    },
    {
      "cell_type": "code",
      "metadata": {
        "colab_type": "code",
        "id": "qC77O9Gbcl0l",
        "outputId": "ff303da2-3ffc-48d3-8201-19ce19743ca0",
        "colab": {
          "base_uri": "https://localhost:8080/",
          "height": 51
        }
      },
      "source": [
        "import pandas as pd\n",
        "import requests\n",
        "from IPython.display import Image\n",
        "from ftplib import FTP #needed to make the request to the server\n",
        "\n",
        "# packages for processing images\n",
        "! pip install rawpy\n",
        "from PIL import Image\n",
        "from PIL import ImageFile\n",
        "import rawpy\n",
        "import imageio\n",
        "ImageFile.LOAD_TRUNCATED_IMAGES = True\n",
        "\n",
        "\n",
        "import os, shutil, sys #required for moving files\n",
        "\n",
        "import matplotlib.pyplot as plt\n",
        "import matplotlib.image as mpimg\n",
        "\n",
        "\n",
        "from pathlib import Path"
      ],
      "execution_count": 2,
      "outputs": [
        {
          "output_type": "stream",
          "text": [
            "Requirement already satisfied: rawpy in /usr/local/lib/python3.6/dist-packages (0.14.0)\n",
            "Requirement already satisfied: numpy in /usr/local/lib/python3.6/dist-packages (from rawpy) (1.18.4)\n"
          ],
          "name": "stdout"
        }
      ]
    },
    {
      "cell_type": "code",
      "metadata": {
        "id": "qgScKhqjLyz_",
        "colab_type": "code",
        "colab": {
          "base_uri": "https://localhost:8080/",
          "height": 34
        },
        "outputId": "cdb48e91-800a-4342-8bb6-903156ba6d2a"
      },
      "source": [
        "import os\n",
        "import pprint\n",
        "import tensorflow as tf\n",
        "\n",
        "if 'COLAB_TPU_ADDR' not in os.environ:\n",
        "  print('ERROR: Not connected to a TPU runtime; please see the first cell in this notebook for instructions!')\n",
        "else:\n",
        "  tpu_address = 'grpc://' + os.environ['COLAB_TPU_ADDR']\n",
        "  print ('TPU address is', tpu_address)\n",
        "\n",
        "  with tf.Session(tpu_address) as session:\n",
        "    devices = session.list_devices()\n",
        "    \n",
        "  print('TPU devices:')\n",
        "  pprint.pprint(devices)"
      ],
      "execution_count": 23,
      "outputs": [
        {
          "output_type": "stream",
          "text": [
            "ERROR: Not connected to a TPU runtime; please see the first cell in this notebook for instructions!\n"
          ],
          "name": "stdout"
        }
      ]
    },
    {
      "cell_type": "markdown",
      "metadata": {
        "colab_type": "text",
        "id": "SH5ZO_cmgjyF"
      },
      "source": [
        "# Create Dataset"
      ]
    },
    {
      "cell_type": "markdown",
      "metadata": {
        "colab_type": "text",
        "id": "eWirU0IZeaws"
      },
      "source": [
        "## Define Classes\n",
        "\n",
        "Two paths: select your NDCs to train by their count of images (for a balanced dataset) or by specific NDCs (classes may be imbalanced and require additional manipulation)"
      ]
    },
    {
      "cell_type": "markdown",
      "metadata": {
        "colab_type": "text",
        "id": "MtCLmbHqCmsS"
      },
      "source": [
        "### By **NDC**\n",
        "\n",
        "If you know the NDCs you would like to train your model, you may enter them into the dloadndcs list "
      ]
    },
    {
      "cell_type": "code",
      "metadata": {
        "colab_type": "code",
        "id": "bYX3oLVrD_l9",
        "colab": {}
      },
      "source": [
        "ndcs = [    \n",
        "'00009033102',    \n",
        "'65862019430',\n",
        "'00591084510',\n",
        "'55111068305',\n",
        "'00527134410',\n",
        "'00093005801',    \n",
        "'45802091987',\n",
        "'61958070101',\n",
        "'49884003501',\n",
        "'00591078005',\n",
        "'31722020701',\n",
        "'68180047901',\n",
        "'65862007701',\n",
        "'00054472825',\n",
        "'68180040301'\n",
        "]"
      ],
      "execution_count": 0,
      "outputs": []
    },
    {
      "cell_type": "code",
      "metadata": {
        "id": "McFsoWWOKeUv",
        "colab_type": "code",
        "colab": {
          "base_uri": "https://localhost:8080/",
          "height": 34
        },
        "outputId": "77608659-2d9a-49a6-da27-8e0633ac4715"
      },
      "source": [
        "len(set(ndcs))"
      ],
      "execution_count": 4,
      "outputs": [
        {
          "output_type": "execute_result",
          "data": {
            "text/plain": [
              "15"
            ]
          },
          "metadata": {
            "tags": []
          },
          "execution_count": 4
        }
      ]
    },
    {
      "cell_type": "code",
      "metadata": {
        "id": "EdMIw_p-KeUx",
        "colab_type": "code",
        "colab": {}
      },
      "source": [
        "ndcs_pack = [x[:-2] for x in ndcs]"
      ],
      "execution_count": 0,
      "outputs": []
    },
    {
      "cell_type": "code",
      "metadata": {
        "id": "6PRV8EcRKeU0",
        "colab_type": "code",
        "colab": {},
        "outputId": "78eff26d-7f9d-4bf2-cc51-8966443c66d9"
      },
      "source": [
        "%cd ../.."
      ],
      "execution_count": 0,
      "outputs": [
        {
          "output_type": "stream",
          "text": [
            "/home/jupyter/RxID2\n"
          ],
          "name": "stdout"
        }
      ]
    },
    {
      "cell_type": "code",
      "metadata": {
        "id": "mGWfuEwkKnuE",
        "colab_type": "code",
        "colab": {
          "base_uri": "https://localhost:8080/",
          "height": 122
        },
        "outputId": "3c424f97-4594-4d00-c2ef-1388caca7bce"
      },
      "source": [
        "from google.colab import drive\n",
        "drive.mount('/content/drive')"
      ],
      "execution_count": 6,
      "outputs": [
        {
          "output_type": "stream",
          "text": [
            "Go to this URL in a browser: https://accounts.google.com/o/oauth2/auth?client_id=947318989803-6bn6qk8qdgf4n4g3pfee6491hc0brc4i.apps.googleusercontent.com&redirect_uri=urn%3aietf%3awg%3aoauth%3a2.0%3aoob&response_type=code&scope=email%20https%3a%2f%2fwww.googleapis.com%2fauth%2fdocs.test%20https%3a%2f%2fwww.googleapis.com%2fauth%2fdrive%20https%3a%2f%2fwww.googleapis.com%2fauth%2fdrive.photos.readonly%20https%3a%2f%2fwww.googleapis.com%2fauth%2fpeopleapi.readonly\n",
            "\n",
            "Enter your authorization code:\n",
            "··········\n",
            "Mounted at /content/drive\n"
          ],
          "name": "stdout"
        }
      ]
    },
    {
      "cell_type": "code",
      "metadata": {
        "id": "76eXAyEGKeU2",
        "colab_type": "code",
        "colab": {},
        "outputId": "27200217-f71b-4a3e-c9f0-0c268489c55c"
      },
      "source": [
        "%pwd"
      ],
      "execution_count": 0,
      "outputs": [
        {
          "output_type": "execute_result",
          "data": {
            "text/plain": [
              "'/home/jupyter/RxID2'"
            ]
          },
          "metadata": {
            "tags": []
          },
          "execution_count": 92
        }
      ]
    },
    {
      "cell_type": "code",
      "metadata": {
        "colab_type": "code",
        "id": "iHIGOqlsD8Ob",
        "outputId": "52d0fa0c-add0-45b7-db8d-9c1b74864ea6",
        "colab": {
          "base_uri": "https://localhost:8080/",
          "height": 558
        }
      },
      "source": [
        "%cd Notebooks\n",
        "typdict = {'NDC':'str'}\n",
        "df = pd.read_csv('/content/drive/My Drive/RxID2/directory_of_images.txt',sep='|', dtype=typdict, names=['NDC','IDK','FILE','TYPE','DRUG'])\n",
        "df = df.dropna()\n",
        "df.DRUG = df.DRUG.str.upper()\n",
        "df[['ORIG_FOLDER','IMAGES','FILENAME']] = df.FILE.str.split('/', expand=True)\n",
        "df['FILETYPE'] = df.FILENAME.str[-4:]\n",
        "df = df[df.FILETYPE != '.WMV']# will remove video files from query\n",
        "df['NDC_prod'] = df.NDC.str[:-2]\n",
        "df = df[df.NDC_prod.isin(ndcs_pack)]\n",
        "df"
      ],
      "execution_count": 7,
      "outputs": [
        {
          "output_type": "stream",
          "text": [
            "[Errno 2] No such file or directory: 'Notebooks'\n",
            "/content\n"
          ],
          "name": "stdout"
        },
        {
          "output_type": "execute_result",
          "data": {
            "text/html": [
              "<div>\n",
              "<style scoped>\n",
              "    .dataframe tbody tr th:only-of-type {\n",
              "        vertical-align: middle;\n",
              "    }\n",
              "\n",
              "    .dataframe tbody tr th {\n",
              "        vertical-align: top;\n",
              "    }\n",
              "\n",
              "    .dataframe thead th {\n",
              "        text-align: right;\n",
              "    }\n",
              "</style>\n",
              "<table border=\"1\" class=\"dataframe\">\n",
              "  <thead>\n",
              "    <tr style=\"text-align: right;\">\n",
              "      <th></th>\n",
              "      <th>NDC</th>\n",
              "      <th>IDK</th>\n",
              "      <th>FILE</th>\n",
              "      <th>TYPE</th>\n",
              "      <th>DRUG</th>\n",
              "      <th>ORIG_FOLDER</th>\n",
              "      <th>IMAGES</th>\n",
              "      <th>FILENAME</th>\n",
              "      <th>FILETYPE</th>\n",
              "      <th>NDC_prod</th>\n",
              "    </tr>\n",
              "  </thead>\n",
              "  <tbody>\n",
              "    <tr>\n",
              "      <th>2946</th>\n",
              "      <td>00009033102</td>\n",
              "      <td>1</td>\n",
              "      <td>PillProjectDisc58/images/CB4CEJKI72-2IAAF8SPNK...</td>\n",
              "      <td>C3PI_Reference</td>\n",
              "      <td>CLEOCIN 75MG CAPS</td>\n",
              "      <td>PillProjectDisc58</td>\n",
              "      <td>images</td>\n",
              "      <td>CB4CEJKI72-2IAAF8SPNK-YD6QHSBHE.CR2</td>\n",
              "      <td>.CR2</td>\n",
              "      <td>000090331</td>\n",
              "    </tr>\n",
              "    <tr>\n",
              "      <th>2947</th>\n",
              "      <td>00009033102</td>\n",
              "      <td>1</td>\n",
              "      <td>PillProjectDisc95/images/MJ8SIXGLA!IDK6QKOJQ8N...</td>\n",
              "      <td>C3PI_Reference</td>\n",
              "      <td>CLEOCIN 75MG CAPS</td>\n",
              "      <td>PillProjectDisc95</td>\n",
              "      <td>images</td>\n",
              "      <td>MJ8SIXGLA!IDK6QKOJQ8N5DOBZIKHE.CR2</td>\n",
              "      <td>.CR2</td>\n",
              "      <td>000090331</td>\n",
              "    </tr>\n",
              "    <tr>\n",
              "      <th>2949</th>\n",
              "      <td>00009033102</td>\n",
              "      <td>1</td>\n",
              "      <td>PillProjectDisc107/images/XW27OGQ!GSTCS6SVCFSE...</td>\n",
              "      <td>C3PI_Test</td>\n",
              "      <td>CLEOCIN 75MG CAPS</td>\n",
              "      <td>PillProjectDisc107</td>\n",
              "      <td>images</td>\n",
              "      <td>XW27OGQ!GSTCS6SVCFSE6F!WHA7PYT.JPG</td>\n",
              "      <td>.JPG</td>\n",
              "      <td>000090331</td>\n",
              "    </tr>\n",
              "    <tr>\n",
              "      <th>2950</th>\n",
              "      <td>00009033102</td>\n",
              "      <td>1</td>\n",
              "      <td>PillProjectDisc13/images/9CLLUNVVKAJ4Y!Q0R_4_H...</td>\n",
              "      <td>C3PI_Test</td>\n",
              "      <td>CLEOCIN 75MG CAPS</td>\n",
              "      <td>PillProjectDisc13</td>\n",
              "      <td>images</td>\n",
              "      <td>9CLLUNVVKAJ4Y!Q0R_4_H0I4EVZG5C.JPG</td>\n",
              "      <td>.JPG</td>\n",
              "      <td>000090331</td>\n",
              "    </tr>\n",
              "    <tr>\n",
              "      <th>2951</th>\n",
              "      <td>00009033102</td>\n",
              "      <td>1</td>\n",
              "      <td>PillProjectDisc17/images/B18QCJP3ZMIWFPGXJZ4R3...</td>\n",
              "      <td>C3PI_Test</td>\n",
              "      <td>CLEOCIN 75MG CAPS</td>\n",
              "      <td>PillProjectDisc17</td>\n",
              "      <td>images</td>\n",
              "      <td>B18QCJP3ZMIWFPGXJZ4R3I-OL2GR6Z-.JPG</td>\n",
              "      <td>.JPG</td>\n",
              "      <td>000090331</td>\n",
              "    </tr>\n",
              "    <tr>\n",
              "      <th>...</th>\n",
              "      <td>...</td>\n",
              "      <td>...</td>\n",
              "      <td>...</td>\n",
              "      <td>...</td>\n",
              "      <td>...</td>\n",
              "      <td>...</td>\n",
              "      <td>...</td>\n",
              "      <td>...</td>\n",
              "      <td>...</td>\n",
              "      <td>...</td>\n",
              "    </tr>\n",
              "    <tr>\n",
              "      <th>127776</th>\n",
              "      <td>68180047901</td>\n",
              "      <td>1</td>\n",
              "      <td>PillProjectDisc42/images/BP4V9ZT0LMIB4BO872E-W...</td>\n",
              "      <td>MC_COOKED_CALIBRATED_V1.2</td>\n",
              "      <td>SIMVASTATIN</td>\n",
              "      <td>PillProjectDisc42</td>\n",
              "      <td>images</td>\n",
              "      <td>BP4V9ZT0LMIB4BO872E-WK025340X84.PNG</td>\n",
              "      <td>.PNG</td>\n",
              "      <td>681800479</td>\n",
              "    </tr>\n",
              "    <tr>\n",
              "      <th>127777</th>\n",
              "      <td>68180047901</td>\n",
              "      <td>1</td>\n",
              "      <td>PillProjectDisc51/images/BXRU3YZEHJU82Z4XML43I...</td>\n",
              "      <td>MC_COOKED_CALIBRATED_V1.2</td>\n",
              "      <td>SIMVASTATIN</td>\n",
              "      <td>PillProjectDisc51</td>\n",
              "      <td>images</td>\n",
              "      <td>BXRU3YZEHJU82Z4XML43IK7X1JWYWH7.PNG</td>\n",
              "      <td>.PNG</td>\n",
              "      <td>681800479</td>\n",
              "    </tr>\n",
              "    <tr>\n",
              "      <th>127778</th>\n",
              "      <td>68180047901</td>\n",
              "      <td>1</td>\n",
              "      <td>PillProjectDisc72/images/CN_3M1A3P5IO95ONJAKUI...</td>\n",
              "      <td>MC_COOKED_CALIBRATED_V1.2</td>\n",
              "      <td>SIMVASTATIN</td>\n",
              "      <td>PillProjectDisc72</td>\n",
              "      <td>images</td>\n",
              "      <td>CN_3M1A3P5IO95ONJAKUIFJYQC18Y9_.PNG</td>\n",
              "      <td>.PNG</td>\n",
              "      <td>681800479</td>\n",
              "    </tr>\n",
              "    <tr>\n",
              "      <th>127779</th>\n",
              "      <td>68180047901</td>\n",
              "      <td>1</td>\n",
              "      <td>PillProjectDisc83/images/CY8E7A05V71HWIUH2IQOZ...</td>\n",
              "      <td>MC_COOKED_CALIBRATED_V1.2</td>\n",
              "      <td>SIMVASTATIN</td>\n",
              "      <td>PillProjectDisc83</td>\n",
              "      <td>images</td>\n",
              "      <td>CY8E7A05V71HWIUH2IQOZYMM-2BJSD8.PNG</td>\n",
              "      <td>.PNG</td>\n",
              "      <td>681800479</td>\n",
              "    </tr>\n",
              "    <tr>\n",
              "      <th>127780</th>\n",
              "      <td>68180047901</td>\n",
              "      <td>1</td>\n",
              "      <td>PillProjectDisc2/images/-D0ICD37VEPDJZ5ZNLB4WS...</td>\n",
              "      <td>MC_SPL_SPLIMAGE_V3.0</td>\n",
              "      <td>SIMVASTATIN</td>\n",
              "      <td>PillProjectDisc2</td>\n",
              "      <td>images</td>\n",
              "      <td>-D0ICD37VEPDJZ5ZNLB4WSHBEP_TUD.JPG</td>\n",
              "      <td>.JPG</td>\n",
              "      <td>681800479</td>\n",
              "    </tr>\n",
              "  </tbody>\n",
              "</table>\n",
              "<p>607 rows × 10 columns</p>\n",
              "</div>"
            ],
            "text/plain": [
              "                NDC  IDK  ... FILETYPE   NDC_prod\n",
              "2946    00009033102    1  ...     .CR2  000090331\n",
              "2947    00009033102    1  ...     .CR2  000090331\n",
              "2949    00009033102    1  ...     .JPG  000090331\n",
              "2950    00009033102    1  ...     .JPG  000090331\n",
              "2951    00009033102    1  ...     .JPG  000090331\n",
              "...             ...  ...  ...      ...        ...\n",
              "127776  68180047901    1  ...     .PNG  681800479\n",
              "127777  68180047901    1  ...     .PNG  681800479\n",
              "127778  68180047901    1  ...     .PNG  681800479\n",
              "127779  68180047901    1  ...     .PNG  681800479\n",
              "127780  68180047901    1  ...     .JPG  681800479\n",
              "\n",
              "[607 rows x 10 columns]"
            ]
          },
          "metadata": {
            "tags": []
          },
          "execution_count": 7
        }
      ]
    },
    {
      "cell_type": "code",
      "metadata": {
        "colab_type": "code",
        "id": "-MaWzJIkD8Om",
        "outputId": "4fec5778-436f-46a3-f043-d855a99a3b23",
        "colab": {
          "base_uri": "https://localhost:8080/",
          "height": 306
        }
      },
      "source": [
        "df.NDC.value_counts()"
      ],
      "execution_count": 8,
      "outputs": [
        {
          "output_type": "execute_result",
          "data": {
            "text/plain": [
              "00527134410    55\n",
              "00009033102    50\n",
              "00591084510    50\n",
              "65862019430    50\n",
              "55111068305    50\n",
              "00591078005    36\n",
              "00054472825    34\n",
              "00093005801    34\n",
              "68180047901    34\n",
              "61958070101    34\n",
              "00093005805    33\n",
              "31722020701    31\n",
              "45802091987    30\n",
              "49884003501    30\n",
              "65862007701    28\n",
              "68180040301    28\n",
              "Name: NDC, dtype: int64"
            ]
          },
          "metadata": {
            "tags": []
          },
          "execution_count": 8
        }
      ]
    },
    {
      "cell_type": "code",
      "metadata": {
        "colab_type": "code",
        "id": "r75diQzaD8Or",
        "outputId": "5068f87e-27cc-4cbc-ec67-1cdb3b259a00",
        "colab": {
          "base_uri": "https://localhost:8080/",
          "height": 306
        }
      },
      "source": [
        "df.DRUG.value_counts()"
      ],
      "execution_count": 9,
      "outputs": [
        {
          "output_type": "execute_result",
          "data": {
            "text/plain": [
              "LEVOTHYROXINE 0.088MG TABS            55\n",
              "FLUOXETINE 40MG CAP                   50\n",
              "GLIPIZIDE ER 10MG TAB                 50\n",
              "IBUPROFEN 600MG TAB                   50\n",
              "CLEOCIN 75MG CAPS                     50\n",
              "SUCRALFATE 1 GRAM TABLETS             36\n",
              "SIMVASTATIN                           34\n",
              "PREDNISONE                            34\n",
              "TRUVADA TAB                           34\n",
              "TRAMADOL HYDROCHLORIDE TABLETS        34\n",
              "TRAMADOL HYDROCHLORIDE TABLETS USP    33\n",
              "CITALOPRAM TABLETS, USP               31\n",
              "MECLIZINE 25MG TABS                   30\n",
              "CETIRIZINE TAB 10MG                   30\n",
              "CIPROFLOXACN 500MG TAB                28\n",
              "CEFPROZIL 250MG TABS                  28\n",
              "Name: DRUG, dtype: int64"
            ]
          },
          "metadata": {
            "tags": []
          },
          "execution_count": 9
        }
      ]
    },
    {
      "cell_type": "markdown",
      "metadata": {
        "colab_type": "text",
        "id": "2Yu2whaMDDNE"
      },
      "source": [
        "## Review Dataset"
      ]
    },
    {
      "cell_type": "markdown",
      "metadata": {
        "colab_type": "text",
        "id": "MAAO5wQ3fR07"
      },
      "source": [
        "We noticed many DRUG names have variations within an NDC, likely due to different data entry. Before proceeding, we will make all the names the same for each NDC. "
      ]
    },
    {
      "cell_type": "code",
      "metadata": {
        "colab_type": "code",
        "id": "K-hC3Zuwcl0-",
        "outputId": "2c147e29-0082-4085-d748-04a7e286a58a",
        "colab": {
          "base_uri": "https://localhost:8080/",
          "height": 1000
        }
      },
      "source": [
        "df.NDC[df.NDC == '00093005805'] = '00093005801'\n",
        "\n",
        "df.DRUG[df.NDC == '00555188302'] = 'BENZONATATE'\n",
        "df.DRUG[df.NDC == '00781196160'] = 'CLARITHROMYCIN 250MG'\n",
        "df.DRUG[df.NDC == '00009033102'] = 'CLEOCIN 75MG'\n",
        "df.DRUG[df.NDC == '65862019430'] = 'FLUOXETINE 40MG '\n",
        "df.DRUG[df.NDC == '65862019905'] = 'GABAPENTIN 300MG'\n",
        "df.DRUG[df.NDC == '00591084510'] = 'GLIPIZIDE ER 10MG'\n",
        "df.DRUG[df.NDC == '64125013010'] = 'HCTZ 50MG'\n",
        "df.DRUG[df.NDC == '00527134410'] = 'TRAMADOL TAB'\n",
        "df.DRUG[df.NDC == '24486060490'] = 'HYOMAX-DT 0.375MG'\n",
        "df.DRUG[df.NDC == '24486060310'] = 'HYOMAX-FT 0.125MG'\n",
        "df.DRUG[df.NDC == '00093005801'] = 'LEVOTHYROXINE 0.088MG'\n",
        "df.DRUG[df.NDC == '55111068305'] = 'IBUPROFEN 600MG'\n",
        "df.DRUG[df.NDC == '24090047988'] = 'INDERAL LA 160MG'\n",
        "df.DRUG[df.NDC == '00093402901'] = 'INDOMETHACIN'\n",
        "df.DRUG[df.NDC == '00093576756'] = 'OLANZAPINE 2.5MG'"
      ],
      "execution_count": 10,
      "outputs": [
        {
          "output_type": "stream",
          "text": [
            "/usr/local/lib/python3.6/dist-packages/ipykernel_launcher.py:4: SettingWithCopyWarning: \n",
            "A value is trying to be set on a copy of a slice from a DataFrame\n",
            "\n",
            "See the caveats in the documentation: https://pandas.pydata.org/pandas-docs/stable/user_guide/indexing.html#returning-a-view-versus-a-copy\n",
            "  after removing the cwd from sys.path.\n",
            "/usr/local/lib/python3.6/dist-packages/ipykernel_launcher.py:5: SettingWithCopyWarning: \n",
            "A value is trying to be set on a copy of a slice from a DataFrame\n",
            "\n",
            "See the caveats in the documentation: https://pandas.pydata.org/pandas-docs/stable/user_guide/indexing.html#returning-a-view-versus-a-copy\n",
            "  \"\"\"\n",
            "/usr/local/lib/python3.6/dist-packages/ipykernel_launcher.py:6: SettingWithCopyWarning: \n",
            "A value is trying to be set on a copy of a slice from a DataFrame\n",
            "\n",
            "See the caveats in the documentation: https://pandas.pydata.org/pandas-docs/stable/user_guide/indexing.html#returning-a-view-versus-a-copy\n",
            "  \n",
            "/usr/local/lib/python3.6/dist-packages/ipykernel_launcher.py:7: SettingWithCopyWarning: \n",
            "A value is trying to be set on a copy of a slice from a DataFrame\n",
            "\n",
            "See the caveats in the documentation: https://pandas.pydata.org/pandas-docs/stable/user_guide/indexing.html#returning-a-view-versus-a-copy\n",
            "  import sys\n",
            "/usr/local/lib/python3.6/dist-packages/ipykernel_launcher.py:8: SettingWithCopyWarning: \n",
            "A value is trying to be set on a copy of a slice from a DataFrame\n",
            "\n",
            "See the caveats in the documentation: https://pandas.pydata.org/pandas-docs/stable/user_guide/indexing.html#returning-a-view-versus-a-copy\n",
            "  \n",
            "/usr/local/lib/python3.6/dist-packages/ipykernel_launcher.py:9: SettingWithCopyWarning: \n",
            "A value is trying to be set on a copy of a slice from a DataFrame\n",
            "\n",
            "See the caveats in the documentation: https://pandas.pydata.org/pandas-docs/stable/user_guide/indexing.html#returning-a-view-versus-a-copy\n",
            "  if __name__ == '__main__':\n",
            "/usr/local/lib/python3.6/dist-packages/ipykernel_launcher.py:10: SettingWithCopyWarning: \n",
            "A value is trying to be set on a copy of a slice from a DataFrame\n",
            "\n",
            "See the caveats in the documentation: https://pandas.pydata.org/pandas-docs/stable/user_guide/indexing.html#returning-a-view-versus-a-copy\n",
            "  # Remove the CWD from sys.path while we load stuff.\n",
            "/usr/local/lib/python3.6/dist-packages/ipykernel_launcher.py:11: SettingWithCopyWarning: \n",
            "A value is trying to be set on a copy of a slice from a DataFrame\n",
            "\n",
            "See the caveats in the documentation: https://pandas.pydata.org/pandas-docs/stable/user_guide/indexing.html#returning-a-view-versus-a-copy\n",
            "  # This is added back by InteractiveShellApp.init_path()\n",
            "/usr/local/lib/python3.6/dist-packages/ipykernel_launcher.py:12: SettingWithCopyWarning: \n",
            "A value is trying to be set on a copy of a slice from a DataFrame\n",
            "\n",
            "See the caveats in the documentation: https://pandas.pydata.org/pandas-docs/stable/user_guide/indexing.html#returning-a-view-versus-a-copy\n",
            "  if sys.path[0] == '':\n",
            "/usr/local/lib/python3.6/dist-packages/ipykernel_launcher.py:13: SettingWithCopyWarning: \n",
            "A value is trying to be set on a copy of a slice from a DataFrame\n",
            "\n",
            "See the caveats in the documentation: https://pandas.pydata.org/pandas-docs/stable/user_guide/indexing.html#returning-a-view-versus-a-copy\n",
            "  del sys.path[0]\n",
            "/usr/local/lib/python3.6/dist-packages/ipykernel_launcher.py:14: SettingWithCopyWarning: \n",
            "A value is trying to be set on a copy of a slice from a DataFrame\n",
            "\n",
            "See the caveats in the documentation: https://pandas.pydata.org/pandas-docs/stable/user_guide/indexing.html#returning-a-view-versus-a-copy\n",
            "  \n",
            "/usr/local/lib/python3.6/dist-packages/ipykernel_launcher.py:15: SettingWithCopyWarning: \n",
            "A value is trying to be set on a copy of a slice from a DataFrame\n",
            "\n",
            "See the caveats in the documentation: https://pandas.pydata.org/pandas-docs/stable/user_guide/indexing.html#returning-a-view-versus-a-copy\n",
            "  from ipykernel import kernelapp as app\n",
            "/usr/local/lib/python3.6/dist-packages/ipykernel_launcher.py:16: SettingWithCopyWarning: \n",
            "A value is trying to be set on a copy of a slice from a DataFrame\n",
            "\n",
            "See the caveats in the documentation: https://pandas.pydata.org/pandas-docs/stable/user_guide/indexing.html#returning-a-view-versus-a-copy\n",
            "  app.launch_new_instance()\n",
            "/usr/local/lib/python3.6/dist-packages/ipykernel_launcher.py:17: SettingWithCopyWarning: \n",
            "A value is trying to be set on a copy of a slice from a DataFrame\n",
            "\n",
            "See the caveats in the documentation: https://pandas.pydata.org/pandas-docs/stable/user_guide/indexing.html#returning-a-view-versus-a-copy\n"
          ],
          "name": "stderr"
        }
      ]
    },
    {
      "cell_type": "code",
      "metadata": {
        "colab_type": "code",
        "id": "7HNRTIzdcl1A",
        "outputId": "32dd28bc-c1f2-4906-e9ef-23515653ef3c",
        "colab": {
          "base_uri": "https://localhost:8080/",
          "height": 524
        }
      },
      "source": [
        "df"
      ],
      "execution_count": 11,
      "outputs": [
        {
          "output_type": "execute_result",
          "data": {
            "text/html": [
              "<div>\n",
              "<style scoped>\n",
              "    .dataframe tbody tr th:only-of-type {\n",
              "        vertical-align: middle;\n",
              "    }\n",
              "\n",
              "    .dataframe tbody tr th {\n",
              "        vertical-align: top;\n",
              "    }\n",
              "\n",
              "    .dataframe thead th {\n",
              "        text-align: right;\n",
              "    }\n",
              "</style>\n",
              "<table border=\"1\" class=\"dataframe\">\n",
              "  <thead>\n",
              "    <tr style=\"text-align: right;\">\n",
              "      <th></th>\n",
              "      <th>NDC</th>\n",
              "      <th>IDK</th>\n",
              "      <th>FILE</th>\n",
              "      <th>TYPE</th>\n",
              "      <th>DRUG</th>\n",
              "      <th>ORIG_FOLDER</th>\n",
              "      <th>IMAGES</th>\n",
              "      <th>FILENAME</th>\n",
              "      <th>FILETYPE</th>\n",
              "      <th>NDC_prod</th>\n",
              "    </tr>\n",
              "  </thead>\n",
              "  <tbody>\n",
              "    <tr>\n",
              "      <th>2946</th>\n",
              "      <td>00009033102</td>\n",
              "      <td>1</td>\n",
              "      <td>PillProjectDisc58/images/CB4CEJKI72-2IAAF8SPNK...</td>\n",
              "      <td>C3PI_Reference</td>\n",
              "      <td>CLEOCIN 75MG</td>\n",
              "      <td>PillProjectDisc58</td>\n",
              "      <td>images</td>\n",
              "      <td>CB4CEJKI72-2IAAF8SPNK-YD6QHSBHE.CR2</td>\n",
              "      <td>.CR2</td>\n",
              "      <td>000090331</td>\n",
              "    </tr>\n",
              "    <tr>\n",
              "      <th>2947</th>\n",
              "      <td>00009033102</td>\n",
              "      <td>1</td>\n",
              "      <td>PillProjectDisc95/images/MJ8SIXGLA!IDK6QKOJQ8N...</td>\n",
              "      <td>C3PI_Reference</td>\n",
              "      <td>CLEOCIN 75MG</td>\n",
              "      <td>PillProjectDisc95</td>\n",
              "      <td>images</td>\n",
              "      <td>MJ8SIXGLA!IDK6QKOJQ8N5DOBZIKHE.CR2</td>\n",
              "      <td>.CR2</td>\n",
              "      <td>000090331</td>\n",
              "    </tr>\n",
              "    <tr>\n",
              "      <th>2949</th>\n",
              "      <td>00009033102</td>\n",
              "      <td>1</td>\n",
              "      <td>PillProjectDisc107/images/XW27OGQ!GSTCS6SVCFSE...</td>\n",
              "      <td>C3PI_Test</td>\n",
              "      <td>CLEOCIN 75MG</td>\n",
              "      <td>PillProjectDisc107</td>\n",
              "      <td>images</td>\n",
              "      <td>XW27OGQ!GSTCS6SVCFSE6F!WHA7PYT.JPG</td>\n",
              "      <td>.JPG</td>\n",
              "      <td>000090331</td>\n",
              "    </tr>\n",
              "    <tr>\n",
              "      <th>2950</th>\n",
              "      <td>00009033102</td>\n",
              "      <td>1</td>\n",
              "      <td>PillProjectDisc13/images/9CLLUNVVKAJ4Y!Q0R_4_H...</td>\n",
              "      <td>C3PI_Test</td>\n",
              "      <td>CLEOCIN 75MG</td>\n",
              "      <td>PillProjectDisc13</td>\n",
              "      <td>images</td>\n",
              "      <td>9CLLUNVVKAJ4Y!Q0R_4_H0I4EVZG5C.JPG</td>\n",
              "      <td>.JPG</td>\n",
              "      <td>000090331</td>\n",
              "    </tr>\n",
              "    <tr>\n",
              "      <th>2951</th>\n",
              "      <td>00009033102</td>\n",
              "      <td>1</td>\n",
              "      <td>PillProjectDisc17/images/B18QCJP3ZMIWFPGXJZ4R3...</td>\n",
              "      <td>C3PI_Test</td>\n",
              "      <td>CLEOCIN 75MG</td>\n",
              "      <td>PillProjectDisc17</td>\n",
              "      <td>images</td>\n",
              "      <td>B18QCJP3ZMIWFPGXJZ4R3I-OL2GR6Z-.JPG</td>\n",
              "      <td>.JPG</td>\n",
              "      <td>000090331</td>\n",
              "    </tr>\n",
              "    <tr>\n",
              "      <th>...</th>\n",
              "      <td>...</td>\n",
              "      <td>...</td>\n",
              "      <td>...</td>\n",
              "      <td>...</td>\n",
              "      <td>...</td>\n",
              "      <td>...</td>\n",
              "      <td>...</td>\n",
              "      <td>...</td>\n",
              "      <td>...</td>\n",
              "      <td>...</td>\n",
              "    </tr>\n",
              "    <tr>\n",
              "      <th>127776</th>\n",
              "      <td>68180047901</td>\n",
              "      <td>1</td>\n",
              "      <td>PillProjectDisc42/images/BP4V9ZT0LMIB4BO872E-W...</td>\n",
              "      <td>MC_COOKED_CALIBRATED_V1.2</td>\n",
              "      <td>SIMVASTATIN</td>\n",
              "      <td>PillProjectDisc42</td>\n",
              "      <td>images</td>\n",
              "      <td>BP4V9ZT0LMIB4BO872E-WK025340X84.PNG</td>\n",
              "      <td>.PNG</td>\n",
              "      <td>681800479</td>\n",
              "    </tr>\n",
              "    <tr>\n",
              "      <th>127777</th>\n",
              "      <td>68180047901</td>\n",
              "      <td>1</td>\n",
              "      <td>PillProjectDisc51/images/BXRU3YZEHJU82Z4XML43I...</td>\n",
              "      <td>MC_COOKED_CALIBRATED_V1.2</td>\n",
              "      <td>SIMVASTATIN</td>\n",
              "      <td>PillProjectDisc51</td>\n",
              "      <td>images</td>\n",
              "      <td>BXRU3YZEHJU82Z4XML43IK7X1JWYWH7.PNG</td>\n",
              "      <td>.PNG</td>\n",
              "      <td>681800479</td>\n",
              "    </tr>\n",
              "    <tr>\n",
              "      <th>127778</th>\n",
              "      <td>68180047901</td>\n",
              "      <td>1</td>\n",
              "      <td>PillProjectDisc72/images/CN_3M1A3P5IO95ONJAKUI...</td>\n",
              "      <td>MC_COOKED_CALIBRATED_V1.2</td>\n",
              "      <td>SIMVASTATIN</td>\n",
              "      <td>PillProjectDisc72</td>\n",
              "      <td>images</td>\n",
              "      <td>CN_3M1A3P5IO95ONJAKUIFJYQC18Y9_.PNG</td>\n",
              "      <td>.PNG</td>\n",
              "      <td>681800479</td>\n",
              "    </tr>\n",
              "    <tr>\n",
              "      <th>127779</th>\n",
              "      <td>68180047901</td>\n",
              "      <td>1</td>\n",
              "      <td>PillProjectDisc83/images/CY8E7A05V71HWIUH2IQOZ...</td>\n",
              "      <td>MC_COOKED_CALIBRATED_V1.2</td>\n",
              "      <td>SIMVASTATIN</td>\n",
              "      <td>PillProjectDisc83</td>\n",
              "      <td>images</td>\n",
              "      <td>CY8E7A05V71HWIUH2IQOZYMM-2BJSD8.PNG</td>\n",
              "      <td>.PNG</td>\n",
              "      <td>681800479</td>\n",
              "    </tr>\n",
              "    <tr>\n",
              "      <th>127780</th>\n",
              "      <td>68180047901</td>\n",
              "      <td>1</td>\n",
              "      <td>PillProjectDisc2/images/-D0ICD37VEPDJZ5ZNLB4WS...</td>\n",
              "      <td>MC_SPL_SPLIMAGE_V3.0</td>\n",
              "      <td>SIMVASTATIN</td>\n",
              "      <td>PillProjectDisc2</td>\n",
              "      <td>images</td>\n",
              "      <td>-D0ICD37VEPDJZ5ZNLB4WSHBEP_TUD.JPG</td>\n",
              "      <td>.JPG</td>\n",
              "      <td>681800479</td>\n",
              "    </tr>\n",
              "  </tbody>\n",
              "</table>\n",
              "<p>607 rows × 10 columns</p>\n",
              "</div>"
            ],
            "text/plain": [
              "                NDC  IDK  ... FILETYPE   NDC_prod\n",
              "2946    00009033102    1  ...     .CR2  000090331\n",
              "2947    00009033102    1  ...     .CR2  000090331\n",
              "2949    00009033102    1  ...     .JPG  000090331\n",
              "2950    00009033102    1  ...     .JPG  000090331\n",
              "2951    00009033102    1  ...     .JPG  000090331\n",
              "...             ...  ...  ...      ...        ...\n",
              "127776  68180047901    1  ...     .PNG  681800479\n",
              "127777  68180047901    1  ...     .PNG  681800479\n",
              "127778  68180047901    1  ...     .PNG  681800479\n",
              "127779  68180047901    1  ...     .PNG  681800479\n",
              "127780  68180047901    1  ...     .JPG  681800479\n",
              "\n",
              "[607 rows x 10 columns]"
            ]
          },
          "metadata": {
            "tags": []
          },
          "execution_count": 11
        }
      ]
    },
    {
      "cell_type": "code",
      "metadata": {
        "colab_type": "code",
        "id": "PAzss3xOcl1C",
        "outputId": "99a02eac-9493-40cb-95ed-9d5a7e232cad",
        "colab": {
          "base_uri": "https://localhost:8080/",
          "height": 289
        }
      },
      "source": [
        "df.DRUG.value_counts()"
      ],
      "execution_count": 12,
      "outputs": [
        {
          "output_type": "execute_result",
          "data": {
            "text/plain": [
              "LEVOTHYROXINE 0.088MG        67\n",
              "TRAMADOL TAB                 55\n",
              "IBUPROFEN 600MG              50\n",
              "GLIPIZIDE ER 10MG            50\n",
              "CLEOCIN 75MG                 50\n",
              "FLUOXETINE 40MG              50\n",
              "SUCRALFATE 1 GRAM TABLETS    36\n",
              "SIMVASTATIN                  34\n",
              "PREDNISONE                   34\n",
              "TRUVADA TAB                  34\n",
              "CITALOPRAM TABLETS, USP      31\n",
              "MECLIZINE 25MG TABS          30\n",
              "CETIRIZINE TAB 10MG          30\n",
              "CIPROFLOXACN 500MG TAB       28\n",
              "CEFPROZIL 250MG TABS         28\n",
              "Name: DRUG, dtype: int64"
            ]
          },
          "metadata": {
            "tags": []
          },
          "execution_count": 12
        }
      ]
    },
    {
      "cell_type": "code",
      "metadata": {
        "colab_type": "code",
        "id": "B2ZEUM0Ncl1E",
        "outputId": "ee9230c8-c982-4a79-c701-5393feba05a8",
        "colab": {
          "base_uri": "https://localhost:8080/",
          "height": 514
        }
      },
      "source": [
        "#this dataframe will display just the DRUG-NDC pairs for the model to be trained\n",
        "df_a = df.groupby(['DRUG','NDC']).count()\n",
        "df_a.reset_index(inplace=True)\n",
        "drug_ndc = df_a[['DRUG','NDC']]\n",
        "drug_ndc"
      ],
      "execution_count": 13,
      "outputs": [
        {
          "output_type": "execute_result",
          "data": {
            "text/html": [
              "<div>\n",
              "<style scoped>\n",
              "    .dataframe tbody tr th:only-of-type {\n",
              "        vertical-align: middle;\n",
              "    }\n",
              "\n",
              "    .dataframe tbody tr th {\n",
              "        vertical-align: top;\n",
              "    }\n",
              "\n",
              "    .dataframe thead th {\n",
              "        text-align: right;\n",
              "    }\n",
              "</style>\n",
              "<table border=\"1\" class=\"dataframe\">\n",
              "  <thead>\n",
              "    <tr style=\"text-align: right;\">\n",
              "      <th></th>\n",
              "      <th>DRUG</th>\n",
              "      <th>NDC</th>\n",
              "    </tr>\n",
              "  </thead>\n",
              "  <tbody>\n",
              "    <tr>\n",
              "      <th>0</th>\n",
              "      <td>CEFPROZIL 250MG TABS</td>\n",
              "      <td>68180040301</td>\n",
              "    </tr>\n",
              "    <tr>\n",
              "      <th>1</th>\n",
              "      <td>CETIRIZINE TAB 10MG</td>\n",
              "      <td>45802091987</td>\n",
              "    </tr>\n",
              "    <tr>\n",
              "      <th>2</th>\n",
              "      <td>CIPROFLOXACN 500MG TAB</td>\n",
              "      <td>65862007701</td>\n",
              "    </tr>\n",
              "    <tr>\n",
              "      <th>3</th>\n",
              "      <td>CITALOPRAM TABLETS, USP</td>\n",
              "      <td>31722020701</td>\n",
              "    </tr>\n",
              "    <tr>\n",
              "      <th>4</th>\n",
              "      <td>CLEOCIN 75MG</td>\n",
              "      <td>00009033102</td>\n",
              "    </tr>\n",
              "    <tr>\n",
              "      <th>5</th>\n",
              "      <td>FLUOXETINE 40MG</td>\n",
              "      <td>65862019430</td>\n",
              "    </tr>\n",
              "    <tr>\n",
              "      <th>6</th>\n",
              "      <td>GLIPIZIDE ER 10MG</td>\n",
              "      <td>00591084510</td>\n",
              "    </tr>\n",
              "    <tr>\n",
              "      <th>7</th>\n",
              "      <td>IBUPROFEN 600MG</td>\n",
              "      <td>55111068305</td>\n",
              "    </tr>\n",
              "    <tr>\n",
              "      <th>8</th>\n",
              "      <td>LEVOTHYROXINE 0.088MG</td>\n",
              "      <td>00093005801</td>\n",
              "    </tr>\n",
              "    <tr>\n",
              "      <th>9</th>\n",
              "      <td>MECLIZINE 25MG TABS</td>\n",
              "      <td>49884003501</td>\n",
              "    </tr>\n",
              "    <tr>\n",
              "      <th>10</th>\n",
              "      <td>PREDNISONE</td>\n",
              "      <td>00054472825</td>\n",
              "    </tr>\n",
              "    <tr>\n",
              "      <th>11</th>\n",
              "      <td>SIMVASTATIN</td>\n",
              "      <td>68180047901</td>\n",
              "    </tr>\n",
              "    <tr>\n",
              "      <th>12</th>\n",
              "      <td>SUCRALFATE 1 GRAM TABLETS</td>\n",
              "      <td>00591078005</td>\n",
              "    </tr>\n",
              "    <tr>\n",
              "      <th>13</th>\n",
              "      <td>TRAMADOL TAB</td>\n",
              "      <td>00527134410</td>\n",
              "    </tr>\n",
              "    <tr>\n",
              "      <th>14</th>\n",
              "      <td>TRUVADA TAB</td>\n",
              "      <td>61958070101</td>\n",
              "    </tr>\n",
              "  </tbody>\n",
              "</table>\n",
              "</div>"
            ],
            "text/plain": [
              "                         DRUG          NDC\n",
              "0        CEFPROZIL 250MG TABS  68180040301\n",
              "1         CETIRIZINE TAB 10MG  45802091987\n",
              "2      CIPROFLOXACN 500MG TAB  65862007701\n",
              "3     CITALOPRAM TABLETS, USP  31722020701\n",
              "4                CLEOCIN 75MG  00009033102\n",
              "5            FLUOXETINE 40MG   65862019430\n",
              "6           GLIPIZIDE ER 10MG  00591084510\n",
              "7             IBUPROFEN 600MG  55111068305\n",
              "8       LEVOTHYROXINE 0.088MG  00093005801\n",
              "9         MECLIZINE 25MG TABS  49884003501\n",
              "10                 PREDNISONE  00054472825\n",
              "11                SIMVASTATIN  68180047901\n",
              "12  SUCRALFATE 1 GRAM TABLETS  00591078005\n",
              "13               TRAMADOL TAB  00527134410\n",
              "14                TRUVADA TAB  61958070101"
            ]
          },
          "metadata": {
            "tags": []
          },
          "execution_count": 13
        }
      ]
    },
    {
      "cell_type": "markdown",
      "metadata": {
        "colab_type": "text",
        "id": "MVMWkzSScl1G"
      },
      "source": [
        "## Get Sample Images\n",
        "\n",
        "It may be prudent to confirm the selected NDCs will produce a useful and varied dataset for image classification training. These cells will request 1 image for each NDC and showcase the medication."
      ]
    },
    {
      "cell_type": "code",
      "metadata": {
        "id": "-o9EYkwKKeVC",
        "colab_type": "code",
        "colab": {
          "base_uri": "https://localhost:8080/",
          "height": 272
        },
        "outputId": "12d37e38-433b-44a3-8122-10b20af7d446"
      },
      "source": [
        "dfx = df[df.TYPE == 'MC_COOKED_CALIBRATED_V1.2']\n",
        "dfx.NDC.value_counts().index.to_list()"
      ],
      "execution_count": 14,
      "outputs": [
        {
          "output_type": "execute_result",
          "data": {
            "text/plain": [
              "['00093005801',\n",
              " '61958070101',\n",
              " '00009033102',\n",
              " '31722020701',\n",
              " '65862019430',\n",
              " '00054472825',\n",
              " '00591078005',\n",
              " '00591084510',\n",
              " '68180040301',\n",
              " '45802091987',\n",
              " '68180047901',\n",
              " '55111068305',\n",
              " '49884003501',\n",
              " '65862007701',\n",
              " '00527134410']"
            ]
          },
          "metadata": {
            "tags": []
          },
          "execution_count": 14
        }
      ]
    },
    {
      "cell_type": "code",
      "metadata": {
        "colab_type": "code",
        "id": "_wMdAdEpcl1G",
        "colab": {}
      },
      "source": [
        "#define the images to request from the server; one file for each NDC in df will be selected\n",
        "samplesdf = dfx.groupby(['NDC']).min().reset_index()\n",
        "samplesdf.sort_values('NDC')\n",
        "\n",
        "sampleslist = samplesdf.FILE.tolist()\n",
        "sampleslist.sort()"
      ],
      "execution_count": 0,
      "outputs": []
    },
    {
      "cell_type": "code",
      "metadata": {
        "colab_type": "code",
        "id": "eATnjkOiF2f0",
        "colab": {}
      },
      "source": [
        "# for each image in the sampleslist, we will create a key-value pair in a dictionary of the filename and its folder in the ftp directory\n",
        "ftpdir = {}\n",
        "for i in range(0,len(sampleslist)):\n",
        "    ftpcall = sampleslist[i].split('/')\n",
        "    ftppath = ftpcall[0]+'/'+ftpcall[1]+ '/'\n",
        "    ftpfile = ftpcall[-1]\n",
        "    ftpdir.setdefault(ftppath,[])\n",
        "    ftpdir[ftppath].append(ftpfile)\n",
        "#ftpdir"
      ],
      "execution_count": 0,
      "outputs": []
    },
    {
      "cell_type": "code",
      "metadata": {
        "id": "JxQrGLPgKeVH",
        "colab_type": "code",
        "colab": {
          "base_uri": "https://localhost:8080/",
          "height": 34
        },
        "outputId": "915fb9ae-0555-4ee5-a996-78a83b93e6aa"
      },
      "source": [
        "%pwd"
      ],
      "execution_count": 17,
      "outputs": [
        {
          "output_type": "execute_result",
          "data": {
            "text/plain": [
              "'/content'"
            ]
          },
          "metadata": {
            "tags": []
          },
          "execution_count": 17
        }
      ]
    },
    {
      "cell_type": "code",
      "metadata": {
        "id": "7Qge523aKeVI",
        "colab_type": "code",
        "colab": {
          "base_uri": "https://localhost:8080/",
          "height": 34
        },
        "outputId": "5d8fb621-513a-4b4b-f8b4-7b903e7a07cb"
      },
      "source": [
        "%cd /content/drive/My Drive/RxID2/Data"
      ],
      "execution_count": 19,
      "outputs": [
        {
          "output_type": "stream",
          "text": [
            "/content/drive/My Drive/RxID2/Data\n"
          ],
          "name": "stdout"
        }
      ]
    },
    {
      "cell_type": "code",
      "metadata": {
        "colab_type": "code",
        "id": "Q6JJNsWZcl1N",
        "colab": {}
      },
      "source": [
        "#the ftp call is made; ftplib will use the dictionary to iterate throught the folders housing the files needed to sample. \n",
        "\n",
        "try:\n",
        "    os.makedirs('Download')\n",
        "except:\n",
        "    print('Folders present')"
      ],
      "execution_count": 0,
      "outputs": []
    },
    {
      "cell_type": "code",
      "metadata": {
        "colab_type": "code",
        "outputId": "7bea8ce5-4785-4d15-9507-db087d28479b",
        "id": "rVMD8q4nKeVL",
        "colab": {
          "base_uri": "https://localhost:8080/",
          "height": 34
        }
      },
      "source": [
        "%cd Download"
      ],
      "execution_count": 21,
      "outputs": [
        {
          "output_type": "stream",
          "text": [
            "/content/drive/My Drive/RxID2/Data/Download\n"
          ],
          "name": "stdout"
        }
      ]
    },
    {
      "cell_type": "code",
      "metadata": {
        "colab_type": "code",
        "id": "VFlJUq5aKeVM",
        "colab": {}
      },
      "source": [
        "dloaded = os.listdir() # get list of unprocessed images in the 'Download' folder\n",
        "for key in ftpdir.keys():\n",
        "    ftp = FTP('lhcftp.nlm.nih.gov')\n",
        "    ftp.login()\n",
        "    ftp.cwd('Open-Access-Datasets/Pills//')\n",
        "    ftp.cwd(key)\n",
        "    for value in ftpdir[key]:\n",
        "        if value not in dloaded: # If your download is interrupted, this code block will check if you've already downloaded a file and skip it, saving some time\n",
        "            with open(value, 'wb') as fp:\n",
        "                ftp.retrbinary('RETR '+ value, fp.write)\n",
        "    ftp.cwd('..')\n",
        "    ftp.cwd('..')\n",
        "\n",
        "#converting images to a smaller format JPG\n",
        "for filename in os.listdir():\n",
        "    if filename.endswith(\".PNG\") or filename.endswith(\".JPG\"): \n",
        "        im1 = Image.open(r'{}'.format(filename))\n",
        "        rgb_im = im1.convert('RGB')\n",
        "        rgb_im.save(r'{}.JPG'.format(filename[:-4]))\n",
        "        continue\n",
        "    elif filename.endswith(\".CR2\") and os.path.getsize(filename) > 0: # CR2 is a Canon professional image format; some files were corrupted and we will skip them\n",
        "        raw = rawpy.imread('{}'.format(filename))\n",
        "        rgb = raw.postprocess()\n",
        "        imageio.imsave('{}.JPG'.format(filename[:-4]), rgb)\n",
        "        continue\n",
        "for filename in os.listdir():\n",
        "    if filename.endswith(\".PNG\") or filename.endswith(\".CR2\"):\n",
        "        os.remove(filename)\n",
        "    elif os.path.isdir(filename):\n",
        "        shutil.rmtree(filename)\n",
        "    elif filename.startswith('.'):\n",
        "        os.remove(filename)"
      ],
      "execution_count": 0,
      "outputs": []
    },
    {
      "cell_type": "code",
      "metadata": {
        "id": "q1ZKYcEDKeVN",
        "colab_type": "code",
        "colab": {
          "base_uri": "https://localhost:8080/",
          "height": 51
        },
        "outputId": "9a504be3-1e68-487d-8f30-4458c4fc0023"
      },
      "source": [
        "%cd ../Data/Download"
      ],
      "execution_count": 24,
      "outputs": [
        {
          "output_type": "stream",
          "text": [
            "[Errno 2] No such file or directory: '../Data/Download'\n",
            "/content/drive/My Drive/RxID2/Data/Download\n"
          ],
          "name": "stdout"
        }
      ]
    },
    {
      "cell_type": "code",
      "metadata": {
        "id": "z0WGYpZaKeVO",
        "colab_type": "code",
        "colab": {}
      },
      "source": [
        "sampleslist2 = samplesdf.FILE.tolist()"
      ],
      "execution_count": 0,
      "outputs": []
    },
    {
      "cell_type": "code",
      "metadata": {
        "id": "auqGT4lcKeVP",
        "colab_type": "code",
        "colab": {}
      },
      "source": [
        "samplefiles = []\n",
        "for image in sampleslist2:\n",
        "    smplsplt = image.split('/')\n",
        "    keep = smplsplt[-1]\n",
        "    keep = keep[:-4]\n",
        "    keep= keep +('.JPG')\n",
        "    samplefiles.append(keep)\n",
        "\n",
        "#for file in os.listdir():\n",
        "drgimg = os.listdir()\n",
        "images = []\n",
        "for file in samplefiles:\n",
        "    data = plt.imread(file)\n",
        "    images.append(data)"
      ],
      "execution_count": 0,
      "outputs": []
    },
    {
      "cell_type": "code",
      "metadata": {
        "id": "QyzZ7QLQKeVQ",
        "colab_type": "code",
        "colab": {
          "base_uri": "https://localhost:8080/",
          "height": 492
        },
        "outputId": "aa0286d1-4b85-4126-90f5-027d1cc72556"
      },
      "source": [
        "plt.figure(figsize=(15,11))\n",
        "columns = 5\n",
        "for i, image in enumerate(images): # iterate through the images in the array 'images'\n",
        "    dname = df.DRUG[df.FILENAME.str.contains(samplefiles[i][:-4])].tolist()[0] # get the drug name from the df for the image in index i \n",
        "    dndc = df.NDC[df.FILENAME.str.contains(samplefiles[i][:-4])].tolist()[0] # get the NDC from the df for the image in index i \n",
        "    title = '[' + str(i) + '] ' + ' ' + dname + '\\nNDC: ' + str(dndc) # title for each subplot: class, drug name, and NDC\n",
        "    plt.subplot(len(images) / columns + 1, columns, i + 1)\n",
        "    plt.suptitle('RxID15 Classes',fontweight='bold',fontsize='large', color= '#ffab40')\n",
        "    plt.subplots_adjust(hspace=0.05,wspace=0.25, top=.9, bottom=.2) # i believe this is the subplots spacing from each other and within the plot\n",
        "    plt.margins(tight=True) # not sure which margins this is impacting\n",
        "    plt.title(title,fontweight='semibold',fontsize='10')\n",
        "    plt.imshow(image)\n",
        "    plt.setp(plt.gcf().get_axes(), xticks=[], yticks=[])\n",
        "    #plt.savefig('../../Images/classes3.jpg',format='jpg',quality=95,dpi=300, bbox='tight',pad_inches = 0) # bbox has always given me the output i wanted..."
      ],
      "execution_count": 28,
      "outputs": [
        {
          "output_type": "display_data",
          "data": {
            "image/png": "[encoded data removed]",
            "text/plain": [
              "<Figure size 1080x792 with 15 Axes>"
            ]
          },
          "metadata": {
            "tags": []
          }
        }
      ]
    },
    {
      "cell_type": "markdown",
      "metadata": {
        "colab_type": "text",
        "id": "CVbN-elacl1U"
      },
      "source": [
        "## Get Train/Test Images\n",
        "\n",
        "These code blocks are where your dataset will be downloaded to your local directory.\n",
        "\n",
        "\n",
        "\n"
      ]
    },
    {
      "cell_type": "code",
      "metadata": {
        "colab_type": "code",
        "id": "fsxKkdLAcl1V",
        "outputId": "0ee4054c-7d3b-44aa-afd2-985c2cd45f36",
        "colab": {
          "base_uri": "https://localhost:8080/",
          "height": 187
        }
      },
      "source": [
        "drugsftp = df.FILE.tolist()\n",
        "drugsftp.sort()\n",
        "drugsftp[:10] # the list of files you are requesting from the ftp server"
      ],
      "execution_count": 29,
      "outputs": [
        {
          "output_type": "execute_result",
          "data": {
            "text/plain": [
              "['PillProjectDisc1/images/!1ECEZFCQZ5I6S0RP6IZ-T!_6Y2RXW.PNG',\n",
              " 'PillProjectDisc1/images/!AOKWIRBTDVYLX41JNYGUE1OPO6-15.JPG',\n",
              " 'PillProjectDisc1/images/!ER_L-9UW4J0KP5FQTJ2-LQKM!FKUK.JPG',\n",
              " 'PillProjectDisc1/images/!RASGCGC5SYGS!IO9BV7LGPDWRYAKC.PNG',\n",
              " 'PillProjectDisc1/images/!RI!43F-63PT8X1IRKA_BXYNUQ4-IT.JPG',\n",
              " 'PillProjectDisc1/images/!VNV0FNW6HS3ENSDUTBIKD-SFWCXIH.JPG',\n",
              " 'PillProjectDisc1/images/!Y7FKLUPG3TK-OZ7A5EVQCVF420-VJ.PNG',\n",
              " 'PillProjectDisc10/images/6JNJRHBSSKORD05NM42GEQJ9GL54JQ.JPG',\n",
              " 'PillProjectDisc10/images/6U0QV!Q!2FKM31JEK-_-MFJL83CC8_.JPG',\n",
              " 'PillProjectDisc10/images/6UFKARR8JAS2HO771K5QNIB0!_B019.JPG']"
            ]
          },
          "metadata": {
            "tags": []
          },
          "execution_count": 29
        }
      ]
    },
    {
      "cell_type": "code",
      "metadata": {
        "colab_type": "code",
        "id": "_CozSFdOcl1W",
        "outputId": "2a35fd8d-7a82-4f30-9365-d7422e843f36",
        "colab": {
          "base_uri": "https://localhost:8080/",
          "height": 34
        }
      },
      "source": [
        "ftpdir = {}\n",
        "for i in range(0,len(drugsftp)):\n",
        "    ftpcall = drugsftp[i].split('/') #separate the folder from the file\n",
        "    ftppath = ftpcall[0]+'/'+ftpcall[1]+ '/'\n",
        "    ftpfile = ftpcall[-1] #isolate the filename\n",
        "    ftpdir.setdefault(ftppath,[])\n",
        "    ftpdir[ftppath].append(ftpfile) #create the folder:file pair\n",
        "len(ftpdir)"
      ],
      "execution_count": 30,
      "outputs": [
        {
          "output_type": "execute_result",
          "data": {
            "text/plain": [
              "110"
            ]
          },
          "metadata": {
            "tags": []
          },
          "execution_count": 30
        }
      ]
    },
    {
      "cell_type": "code",
      "metadata": {
        "colab_type": "code",
        "id": "yH4KmKXKcl1X",
        "colab": {}
      },
      "source": [
        "dloaded = os.listdir() # get list of unprocessed images in the 'Download' folder\n",
        "for key in ftpdir.keys():\n",
        "    ftp = FTP('lhcftp.nlm.nih.gov')\n",
        "    ftp.login()\n",
        "    ftp.cwd('Open-Access-Datasets/Pills//')\n",
        "    ftp.cwd(key)\n",
        "    for value in ftpdir[key]:\n",
        "        if value not in dloaded: # If your download is interrupted, this code block will check if you've already downloaded a file and skip it, saving some time\n",
        "            with open(value, 'wb') as fp:\n",
        "                ftp.retrbinary('RETR '+ value, fp.write)\n",
        "    ftp.cwd('..')\n",
        "    ftp.cwd('..')\n",
        "\n",
        "#converting images to a smaller format JPG\n",
        "for filename in os.listdir():\n",
        "    if filename.endswith(\".PNG\") or filename.endswith(\".JPG\"): \n",
        "        im1 = Image.open(r'{}'.format(filename))\n",
        "        rgb_im = im1.convert('RGB')\n",
        "        rgb_im.save(r'{}.JPG'.format(filename[:-4]))\n",
        "        continue\n",
        "    elif filename.endswith(\".CR2\") and os.path.getsize(filename) > 0: # CR2 is a Canon professional image format; some files were corrupted and we will skip them\n",
        "        raw = rawpy.imread('{}'.format(filename))\n",
        "        rgb = raw.postprocess()\n",
        "        imageio.imsave('{}.JPG'.format(filename[:-4]), rgb)\n",
        "        continue\n",
        "for filename in os.listdir():\n",
        "    if filename.endswith(\".PNG\") or filename.endswith(\".CR2\"):\n",
        "        os.remove(filename)\n",
        "    elif os.path.isdir(filename):\n",
        "        shutil.rmtree(filename)\n",
        "    elif filename.startswith('.'):\n",
        "        os.remove(filename)"
      ],
      "execution_count": 0,
      "outputs": []
    },
    {
      "cell_type": "markdown",
      "metadata": {
        "colab_type": "text",
        "id": "tdrOqEorgN3L"
      },
      "source": [
        "## Sort Images by Class"
      ]
    },
    {
      "cell_type": "code",
      "metadata": {
        "colab_type": "code",
        "id": "2T8iCXIAo8Wh",
        "colab": {}
      },
      "source": [
        "df['FILENAME'] = df.FILENAME.str[:-4] + '.JPG' #all files are now .JPG in the local directory, updating df to reflect"
      ],
      "execution_count": 0,
      "outputs": []
    },
    {
      "cell_type": "code",
      "metadata": {
        "id": "VWvMIlVuKeVW",
        "colab_type": "code",
        "colab": {},
        "outputId": "7f5c8780-89a0-4cc7-a1b1-33b1e0a4ef6b"
      },
      "source": [
        "%pwd"
      ],
      "execution_count": 0,
      "outputs": [
        {
          "output_type": "execute_result",
          "data": {
            "text/plain": [
              "'/home/jupyter/RxID2/Data/Download'"
            ]
          },
          "metadata": {
            "tags": []
          },
          "execution_count": 119
        }
      ]
    },
    {
      "cell_type": "code",
      "metadata": {
        "colab_type": "code",
        "id": "6u5PC6YbGUSq",
        "colab": {
          "base_uri": "https://localhost:8080/",
          "height": 34
        },
        "outputId": "a26d931a-8d4c-4923-c2e2-cc1db2fcdad2"
      },
      "source": [
        "%cd .."
      ],
      "execution_count": 33,
      "outputs": [
        {
          "output_type": "stream",
          "text": [
            "/content/drive/My Drive/RxID2/Data\n"
          ],
          "name": "stdout"
        }
      ]
    },
    {
      "cell_type": "code",
      "metadata": {
        "colab_type": "code",
        "scrolled": true,
        "id": "vRC8ouQtKeVZ",
        "colab": {
          "base_uri": "https://localhost:8080/",
          "height": 1000
        },
        "outputId": "0247f4a3-327b-4e8d-d256-a721b9ad2933"
      },
      "source": [
        "try:\n",
        "    os.makedirs('Classes') #create a directory for this collection of drugs images \n",
        "except:\n",
        "    print('Folder already created')\n",
        "\n",
        "for img in os.listdir('Download'):\n",
        "    try:\n",
        "        folder = df.NDC[df.FILENAME == img].tolist()[0] # get the NDC for the drug being iterated\n",
        "    except:\n",
        "        print('{} not in df'.format(img)) # in case an errant file made it through, we dont want to add to our sorted directories\n",
        "  \n",
        "    try:\n",
        "        classed = 'Classes/{}'.format(folder)\n",
        "        os.mkdir(classed) # create a folder if it doesnt already exist\n",
        "    except:\n",
        "        print('folder_exists...')\n",
        "  \n",
        "    try:\n",
        "        origin = os.path.join('Download', img) # find our image in unclassed...\n",
        "        destination = os.path.join(classed, img) #declare where we want to put it.... \n",
        "        shutil.copy(origin, destination) # and copy the file \n",
        "    except:\n",
        "        print('Could not copy file {}'.format(img))"
      ],
      "execution_count": 34,
      "outputs": [
        {
          "output_type": "stream",
          "text": [
            "folder_exists...\n",
            "folder_exists...\n",
            "folder_exists...\n",
            "folder_exists...\n",
            "folder_exists...\n",
            "folder_exists...\n",
            "folder_exists...\n",
            "folder_exists...\n",
            "folder_exists...\n",
            "folder_exists...\n",
            "folder_exists...\n",
            "folder_exists...\n",
            "folder_exists...\n",
            "folder_exists...\n",
            "folder_exists...\n",
            "folder_exists...\n",
            "folder_exists...\n",
            "folder_exists...\n",
            "folder_exists...\n",
            "folder_exists...\n",
            "folder_exists...\n",
            "folder_exists...\n",
            "folder_exists...\n",
            "folder_exists...\n",
            "folder_exists...\n",
            "folder_exists...\n",
            "folder_exists...\n",
            "folder_exists...\n",
            "folder_exists...\n",
            "folder_exists...\n",
            "folder_exists...\n",
            "folder_exists...\n",
            "folder_exists...\n",
            "folder_exists...\n",
            "folder_exists...\n",
            "folder_exists...\n",
            "folder_exists...\n",
            "folder_exists...\n",
            "folder_exists...\n",
            "folder_exists...\n",
            "folder_exists...\n",
            "folder_exists...\n",
            "folder_exists...\n",
            "folder_exists...\n",
            "folder_exists...\n",
            "folder_exists...\n",
            "folder_exists...\n",
            "folder_exists...\n",
            "folder_exists...\n",
            "folder_exists...\n",
            "folder_exists...\n",
            "folder_exists...\n",
            "folder_exists...\n",
            "folder_exists...\n",
            "folder_exists...\n",
            "folder_exists...\n",
            "folder_exists...\n",
            "folder_exists...\n",
            "folder_exists...\n",
            "folder_exists...\n",
            "folder_exists...\n",
            "folder_exists...\n",
            "folder_exists...\n",
            "folder_exists...\n",
            "folder_exists...\n",
            "folder_exists...\n",
            "folder_exists...\n",
            "folder_exists...\n",
            "folder_exists...\n",
            "folder_exists...\n",
            "folder_exists...\n",
            "folder_exists...\n",
            "folder_exists...\n",
            "folder_exists...\n",
            "folder_exists...\n",
            "folder_exists...\n",
            "folder_exists...\n",
            "folder_exists...\n",
            "folder_exists...\n",
            "folder_exists...\n",
            "folder_exists...\n",
            "folder_exists...\n",
            "folder_exists...\n",
            "folder_exists...\n",
            "folder_exists...\n",
            "folder_exists...\n",
            "folder_exists...\n",
            "folder_exists...\n",
            "folder_exists...\n",
            "folder_exists...\n",
            "folder_exists...\n",
            "folder_exists...\n",
            "folder_exists...\n",
            "folder_exists...\n",
            "folder_exists...\n",
            "folder_exists...\n",
            "folder_exists...\n",
            "folder_exists...\n",
            "folder_exists...\n",
            "folder_exists...\n",
            "folder_exists...\n",
            "folder_exists...\n",
            "folder_exists...\n",
            "folder_exists...\n",
            "folder_exists...\n",
            "folder_exists...\n",
            "folder_exists...\n",
            "folder_exists...\n",
            "folder_exists...\n",
            "folder_exists...\n",
            "folder_exists...\n",
            "folder_exists...\n",
            "folder_exists...\n",
            "folder_exists...\n",
            "folder_exists...\n",
            "folder_exists...\n",
            "folder_exists...\n",
            "folder_exists...\n",
            "folder_exists...\n",
            "folder_exists...\n",
            "folder_exists...\n",
            "folder_exists...\n",
            "folder_exists...\n",
            "folder_exists...\n",
            "folder_exists...\n",
            "folder_exists...\n",
            "folder_exists...\n",
            "folder_exists...\n",
            "folder_exists...\n",
            "folder_exists...\n",
            "folder_exists...\n",
            "folder_exists...\n",
            "folder_exists...\n",
            "folder_exists...\n",
            "folder_exists...\n",
            "folder_exists...\n",
            "folder_exists...\n",
            "folder_exists...\n",
            "folder_exists...\n",
            "folder_exists...\n",
            "folder_exists...\n",
            "folder_exists...\n",
            "folder_exists...\n",
            "folder_exists...\n",
            "folder_exists...\n",
            "folder_exists...\n",
            "folder_exists...\n",
            "folder_exists...\n",
            "folder_exists...\n",
            "folder_exists...\n",
            "folder_exists...\n",
            "folder_exists...\n",
            "folder_exists...\n",
            "folder_exists...\n",
            "folder_exists...\n",
            "folder_exists...\n",
            "folder_exists...\n",
            "folder_exists...\n",
            "folder_exists...\n",
            "folder_exists...\n",
            "folder_exists...\n",
            "folder_exists...\n",
            "folder_exists...\n",
            "folder_exists...\n",
            "folder_exists...\n",
            "folder_exists...\n",
            "folder_exists...\n",
            "folder_exists...\n",
            "folder_exists...\n",
            "folder_exists...\n",
            "folder_exists...\n",
            "folder_exists...\n",
            "folder_exists...\n",
            "folder_exists...\n",
            "folder_exists...\n",
            "folder_exists...\n",
            "folder_exists...\n",
            "folder_exists...\n",
            "folder_exists...\n",
            "folder_exists...\n",
            "folder_exists...\n",
            "folder_exists...\n",
            "folder_exists...\n",
            "folder_exists...\n",
            "folder_exists...\n",
            "folder_exists...\n",
            "folder_exists...\n",
            "folder_exists...\n",
            "folder_exists...\n",
            "folder_exists...\n",
            "folder_exists...\n",
            "folder_exists...\n",
            "folder_exists...\n",
            "folder_exists...\n",
            "folder_exists...\n",
            "folder_exists...\n",
            "folder_exists...\n",
            "folder_exists...\n",
            "folder_exists...\n",
            "folder_exists...\n",
            "folder_exists...\n",
            "folder_exists...\n",
            "folder_exists...\n",
            "folder_exists...\n",
            "folder_exists...\n",
            "folder_exists...\n",
            "folder_exists...\n",
            "folder_exists...\n",
            "folder_exists...\n",
            "folder_exists...\n",
            "folder_exists...\n",
            "folder_exists...\n",
            "folder_exists...\n",
            "folder_exists...\n",
            "folder_exists...\n",
            "folder_exists...\n",
            "folder_exists...\n",
            "folder_exists...\n",
            "folder_exists...\n",
            "folder_exists...\n",
            "folder_exists...\n",
            "folder_exists...\n",
            "folder_exists...\n",
            "folder_exists...\n",
            "folder_exists...\n",
            "folder_exists...\n",
            "folder_exists...\n",
            "folder_exists...\n",
            "folder_exists...\n",
            "folder_exists...\n",
            "folder_exists...\n",
            "folder_exists...\n",
            "folder_exists...\n",
            "folder_exists...\n",
            "folder_exists...\n",
            "folder_exists...\n",
            "folder_exists...\n",
            "folder_exists...\n",
            "folder_exists...\n",
            "folder_exists...\n",
            "folder_exists...\n",
            "folder_exists...\n",
            "folder_exists...\n",
            "folder_exists...\n",
            "folder_exists...\n",
            "folder_exists...\n",
            "folder_exists...\n",
            "folder_exists...\n",
            "folder_exists...\n",
            "folder_exists...\n",
            "folder_exists...\n",
            "folder_exists...\n",
            "folder_exists...\n",
            "folder_exists...\n",
            "folder_exists...\n",
            "folder_exists...\n",
            "folder_exists...\n",
            "folder_exists...\n",
            "folder_exists...\n",
            "folder_exists...\n",
            "folder_exists...\n",
            "folder_exists...\n",
            "folder_exists...\n",
            "folder_exists...\n",
            "folder_exists...\n",
            "folder_exists...\n",
            "folder_exists...\n",
            "folder_exists...\n",
            "folder_exists...\n",
            "folder_exists...\n",
            "folder_exists...\n",
            "folder_exists...\n",
            "folder_exists...\n",
            "folder_exists...\n",
            "folder_exists...\n",
            "folder_exists...\n",
            "folder_exists...\n",
            "folder_exists...\n",
            "folder_exists...\n",
            "folder_exists...\n",
            "folder_exists...\n",
            "folder_exists...\n",
            "folder_exists...\n",
            "folder_exists...\n",
            "folder_exists...\n",
            "folder_exists...\n",
            "folder_exists...\n",
            "folder_exists...\n",
            "folder_exists...\n",
            "folder_exists...\n",
            "folder_exists...\n",
            "folder_exists...\n",
            "folder_exists...\n",
            "folder_exists...\n",
            "folder_exists...\n",
            "folder_exists...\n",
            "folder_exists...\n",
            "folder_exists...\n",
            "folder_exists...\n",
            "folder_exists...\n",
            "folder_exists...\n",
            "folder_exists...\n",
            "folder_exists...\n",
            "folder_exists...\n",
            "folder_exists...\n",
            "folder_exists...\n",
            "folder_exists...\n",
            "folder_exists...\n",
            "folder_exists...\n",
            "folder_exists...\n",
            "folder_exists...\n",
            "folder_exists...\n",
            "folder_exists...\n",
            "folder_exists...\n",
            "folder_exists...\n",
            "folder_exists...\n",
            "folder_exists...\n",
            "folder_exists...\n",
            "folder_exists...\n",
            "folder_exists...\n",
            "folder_exists...\n",
            "folder_exists...\n",
            "folder_exists...\n",
            "folder_exists...\n",
            "folder_exists...\n",
            "folder_exists...\n",
            "folder_exists...\n",
            "folder_exists...\n",
            "folder_exists...\n",
            "folder_exists...\n",
            "folder_exists...\n",
            "folder_exists...\n",
            "folder_exists...\n",
            "folder_exists...\n",
            "folder_exists...\n",
            "folder_exists...\n",
            "folder_exists...\n",
            "folder_exists...\n",
            "folder_exists...\n",
            "folder_exists...\n",
            "folder_exists...\n",
            "folder_exists...\n",
            "folder_exists...\n",
            "folder_exists...\n",
            "folder_exists...\n",
            "folder_exists...\n",
            "folder_exists...\n",
            "folder_exists...\n",
            "folder_exists...\n",
            "folder_exists...\n",
            "folder_exists...\n",
            "folder_exists...\n",
            "folder_exists...\n",
            "folder_exists...\n",
            "folder_exists...\n",
            "folder_exists...\n",
            "folder_exists...\n",
            "folder_exists...\n",
            "folder_exists...\n",
            "folder_exists...\n",
            "folder_exists...\n",
            "folder_exists...\n",
            "folder_exists...\n",
            "folder_exists...\n",
            "folder_exists...\n",
            "folder_exists...\n",
            "folder_exists...\n",
            "folder_exists...\n",
            "folder_exists...\n",
            "folder_exists...\n",
            "folder_exists...\n",
            "folder_exists...\n",
            "folder_exists...\n",
            "folder_exists...\n",
            "folder_exists...\n",
            "folder_exists...\n",
            "folder_exists...\n",
            "folder_exists...\n",
            "folder_exists...\n",
            "folder_exists...\n",
            "folder_exists...\n",
            "folder_exists...\n",
            "folder_exists...\n",
            "folder_exists...\n",
            "folder_exists...\n",
            "folder_exists...\n",
            "folder_exists...\n",
            "folder_exists...\n",
            "folder_exists...\n",
            "folder_exists...\n",
            "folder_exists...\n",
            "folder_exists...\n",
            "folder_exists...\n",
            "folder_exists...\n",
            "folder_exists...\n",
            "folder_exists...\n",
            "folder_exists...\n",
            "folder_exists...\n",
            "folder_exists...\n",
            "folder_exists...\n",
            "folder_exists...\n",
            "folder_exists...\n",
            "folder_exists...\n",
            "folder_exists...\n",
            "folder_exists...\n",
            "folder_exists...\n",
            "folder_exists...\n",
            "folder_exists...\n",
            "folder_exists...\n",
            "folder_exists...\n",
            "folder_exists...\n",
            "folder_exists...\n",
            "folder_exists...\n",
            "folder_exists...\n",
            "folder_exists...\n",
            "folder_exists...\n",
            "folder_exists...\n",
            "folder_exists...\n",
            "folder_exists...\n",
            "folder_exists...\n",
            "folder_exists...\n",
            "folder_exists...\n",
            "folder_exists...\n",
            "folder_exists...\n",
            "folder_exists...\n",
            "folder_exists...\n",
            "folder_exists...\n",
            "folder_exists...\n",
            "folder_exists...\n",
            "folder_exists...\n",
            "folder_exists...\n",
            "folder_exists...\n",
            "folder_exists...\n",
            "folder_exists...\n",
            "folder_exists...\n",
            "folder_exists...\n",
            "folder_exists...\n",
            "folder_exists...\n",
            "folder_exists...\n",
            "folder_exists...\n",
            "folder_exists...\n",
            "folder_exists...\n",
            "folder_exists...\n",
            "folder_exists...\n",
            "folder_exists...\n",
            "folder_exists...\n",
            "folder_exists...\n",
            "folder_exists...\n",
            "folder_exists...\n",
            "folder_exists...\n",
            "folder_exists...\n",
            "folder_exists...\n",
            "folder_exists...\n",
            "folder_exists...\n",
            "folder_exists...\n",
            "folder_exists...\n",
            "folder_exists...\n",
            "folder_exists...\n",
            "folder_exists...\n",
            "folder_exists...\n",
            "folder_exists...\n",
            "folder_exists...\n",
            "folder_exists...\n",
            "folder_exists...\n",
            "folder_exists...\n",
            "folder_exists...\n",
            "folder_exists...\n",
            "folder_exists...\n",
            "folder_exists...\n",
            "folder_exists...\n",
            "folder_exists...\n",
            "folder_exists...\n",
            "folder_exists...\n",
            "folder_exists...\n",
            "folder_exists...\n",
            "folder_exists...\n",
            "folder_exists...\n",
            "folder_exists...\n",
            "folder_exists...\n",
            "folder_exists...\n",
            "folder_exists...\n",
            "folder_exists...\n",
            "folder_exists...\n",
            "folder_exists...\n",
            "folder_exists...\n",
            "folder_exists...\n",
            "folder_exists...\n",
            "folder_exists...\n",
            "folder_exists...\n",
            "folder_exists...\n",
            "folder_exists...\n",
            "folder_exists...\n",
            "folder_exists...\n",
            "folder_exists...\n",
            "folder_exists...\n",
            "folder_exists...\n",
            "folder_exists...\n",
            "folder_exists...\n",
            "folder_exists...\n",
            "folder_exists...\n",
            "folder_exists...\n",
            "folder_exists...\n",
            "folder_exists...\n",
            "folder_exists...\n",
            "folder_exists...\n",
            "folder_exists...\n",
            "folder_exists...\n",
            "folder_exists...\n",
            "folder_exists...\n",
            "folder_exists...\n",
            "folder_exists...\n",
            "folder_exists...\n",
            "folder_exists...\n",
            "folder_exists...\n",
            "folder_exists...\n",
            "folder_exists...\n",
            "folder_exists...\n",
            "folder_exists...\n",
            "folder_exists...\n",
            "folder_exists...\n",
            "folder_exists...\n",
            "folder_exists...\n",
            "folder_exists...\n",
            "folder_exists...\n",
            "folder_exists...\n",
            "folder_exists...\n",
            "folder_exists...\n",
            "folder_exists...\n",
            "folder_exists...\n",
            "folder_exists...\n",
            "folder_exists...\n",
            "folder_exists...\n",
            "folder_exists...\n",
            "folder_exists...\n",
            "folder_exists...\n",
            "folder_exists...\n",
            "folder_exists...\n",
            "folder_exists...\n",
            "folder_exists...\n",
            "folder_exists...\n",
            "folder_exists...\n",
            "folder_exists...\n",
            "folder_exists...\n",
            "folder_exists...\n",
            "folder_exists...\n",
            "folder_exists...\n",
            "folder_exists...\n",
            "folder_exists...\n",
            "folder_exists...\n",
            "folder_exists...\n",
            "folder_exists...\n",
            "folder_exists...\n",
            "folder_exists...\n",
            "folder_exists...\n",
            "folder_exists...\n",
            "folder_exists...\n",
            "folder_exists...\n",
            "folder_exists...\n",
            "folder_exists...\n",
            "folder_exists...\n",
            "folder_exists...\n",
            "folder_exists...\n",
            "folder_exists...\n",
            "folder_exists...\n",
            "folder_exists...\n",
            "folder_exists...\n",
            "folder_exists...\n",
            "folder_exists...\n",
            "folder_exists...\n",
            "folder_exists...\n",
            "folder_exists...\n",
            "folder_exists...\n",
            "folder_exists...\n",
            "folder_exists...\n",
            "folder_exists...\n",
            "folder_exists...\n",
            "folder_exists...\n",
            "folder_exists...\n",
            "folder_exists...\n",
            "folder_exists...\n",
            "folder_exists...\n",
            "folder_exists...\n",
            "folder_exists...\n",
            "folder_exists...\n",
            "folder_exists...\n",
            "folder_exists...\n",
            "folder_exists...\n",
            "folder_exists...\n",
            "folder_exists...\n",
            "folder_exists...\n",
            "folder_exists...\n",
            "folder_exists...\n"
          ],
          "name": "stdout"
        }
      ]
    },
    {
      "cell_type": "code",
      "metadata": {
        "colab_type": "code",
        "id": "S8ezP36CwbX3",
        "outputId": "0bca3eee-7faf-42e4-d066-320721e0a810",
        "colab": {
          "base_uri": "https://localhost:8080/",
          "height": 263
        }
      },
      "source": [
        "# finally we print our new class directories and their file counts \n",
        "for fldr in os.listdir('Classes'):\n",
        "    files = len(os.listdir('Classes'+ '/' + fldr))\n",
        "    print(fldr.title() + ' : ' + str(files))"
      ],
      "execution_count": 0,
      "outputs": [
        {
          "output_type": "stream",
          "text": [
            "45802091987 : 30\n",
            "00591078005 : 36\n",
            "65862019430 : 50\n",
            "00591084510 : 50\n",
            "61958070101 : 34\n",
            "68180040301 : 28\n",
            "49884003501 : 30\n",
            "00093005801 : 67\n",
            "55111068305 : 50\n",
            "68180047901 : 34\n",
            "31722020701 : 31\n",
            "00009033102 : 50\n",
            "00527134410 : 55\n",
            "65862007701 : 28\n",
            "00054472825 : 34\n"
          ],
          "name": "stdout"
        }
      ]
    },
    {
      "cell_type": "code",
      "metadata": {
        "colab_type": "code",
        "id": "61Liv_jjl2x8",
        "colab": {}
      },
      "source": [
        "#shutil.rmtree('download') # delete the download images if desired"
      ],
      "execution_count": 0,
      "outputs": []
    },
    {
      "cell_type": "code",
      "metadata": {
        "id": "1GyAlaSAKeVc",
        "colab_type": "code",
        "colab": {},
        "outputId": "6f05de73-21b6-45b2-e51c-e05444a34293"
      },
      "source": [
        "%pwd"
      ],
      "execution_count": 0,
      "outputs": [
        {
          "output_type": "execute_result",
          "data": {
            "text/plain": [
              "'/home/jupyter/RxID/Data'"
            ]
          },
          "metadata": {
            "tags": []
          },
          "execution_count": 25
        }
      ]
    },
    {
      "cell_type": "code",
      "metadata": {
        "id": "gPewbucAKeVd",
        "colab_type": "code",
        "colab": {}
      },
      "source": [
        "new_dir         = 'RxID2_split'\n",
        "\n",
        "train_folder    = os.path.join(new_dir, 'train')\n",
        "test_folder     = os.path.join(new_dir, 'test')\n",
        "val_folder      = os.path.join(new_dir, 'validation')\n",
        "\n",
        "try:\n",
        "    os.mkdir(new_dir)\n",
        "    os.mkdir(train_folder)\n",
        "    os.mkdir(test_folder)\n",
        "    os.mkdir(val_folder)\n",
        "except:\n",
        "    print('Folders already made')"
      ],
      "execution_count": 0,
      "outputs": []
    },
    {
      "cell_type": "code",
      "metadata": {
        "id": "EBZABLOxKeVe",
        "colab_type": "code",
        "colab": {}
      },
      "source": [
        "for item in os.listdir('Classes'):\n",
        "    class_train = os.path.join(train_folder, item)\n",
        "    class_test  = os.path.join(test_folder, item)\n",
        "    class_val  = os.path.join(val_folder, item)\n",
        "    try:\n",
        "        os.mkdir(class_train)\n",
        "        os.mkdir(class_test)\n",
        "        os.mkdir(class_val)\n",
        "    except:\n",
        "        print('Folders present')\n",
        "  \n",
        "    classdir = 'Classes/{}'.format( item)\n",
        "    imgs_class = os.listdir(classdir)\n",
        "\n",
        "    imgs = imgs_class[:20]\n",
        "    for img in imgs:\n",
        "        origin = os.path.join(classdir, img)\n",
        "        destination = os.path.join(class_train, img)\n",
        "        try:\n",
        "            shutil.copyfile(origin, destination)\n",
        "        except:\n",
        "            continue\n",
        "  \n",
        "    imgs = imgs_class[20:25]\n",
        "    for img in imgs:\n",
        "        origin = os.path.join(classdir, img)\n",
        "        destination = os.path.join(class_val, img)\n",
        "        try:\n",
        "            shutil.copyfile(origin, destination)\n",
        "        except:\n",
        "            continue\n",
        "  \n",
        "    imgs = imgs_class[25:30]\n",
        "    for img in imgs:\n",
        "        origin = os.path.join(classdir, img)\n",
        "        destination = os.path.join(class_test, img)\n",
        "        try:\n",
        "            shutil.copyfile(origin, destination)\n",
        "        except:\n",
        "            continue"
      ],
      "execution_count": 0,
      "outputs": []
    },
    {
      "cell_type": "code",
      "metadata": {
        "id": "WiZ8k0QwKeVf",
        "colab_type": "code",
        "colab": {
          "base_uri": "https://localhost:8080/",
          "height": 524
        },
        "outputId": "7b7e7659-89bf-4caf-f6e9-f9caa575c963"
      },
      "source": [
        "df"
      ],
      "execution_count": 37,
      "outputs": [
        {
          "output_type": "execute_result",
          "data": {
            "text/html": [
              "<div>\n",
              "<style scoped>\n",
              "    .dataframe tbody tr th:only-of-type {\n",
              "        vertical-align: middle;\n",
              "    }\n",
              "\n",
              "    .dataframe tbody tr th {\n",
              "        vertical-align: top;\n",
              "    }\n",
              "\n",
              "    .dataframe thead th {\n",
              "        text-align: right;\n",
              "    }\n",
              "</style>\n",
              "<table border=\"1\" class=\"dataframe\">\n",
              "  <thead>\n",
              "    <tr style=\"text-align: right;\">\n",
              "      <th></th>\n",
              "      <th>NDC</th>\n",
              "      <th>IDK</th>\n",
              "      <th>FILE</th>\n",
              "      <th>TYPE</th>\n",
              "      <th>DRUG</th>\n",
              "      <th>ORIG_FOLDER</th>\n",
              "      <th>IMAGES</th>\n",
              "      <th>FILENAME</th>\n",
              "      <th>FILETYPE</th>\n",
              "      <th>NDC_prod</th>\n",
              "    </tr>\n",
              "  </thead>\n",
              "  <tbody>\n",
              "    <tr>\n",
              "      <th>2946</th>\n",
              "      <td>00009033102</td>\n",
              "      <td>1</td>\n",
              "      <td>PillProjectDisc58/images/CB4CEJKI72-2IAAF8SPNK...</td>\n",
              "      <td>C3PI_Reference</td>\n",
              "      <td>CLEOCIN 75MG</td>\n",
              "      <td>PillProjectDisc58</td>\n",
              "      <td>images</td>\n",
              "      <td>CB4CEJKI72-2IAAF8SPNK-YD6QHSBHE.JPG</td>\n",
              "      <td>.CR2</td>\n",
              "      <td>000090331</td>\n",
              "    </tr>\n",
              "    <tr>\n",
              "      <th>2947</th>\n",
              "      <td>00009033102</td>\n",
              "      <td>1</td>\n",
              "      <td>PillProjectDisc95/images/MJ8SIXGLA!IDK6QKOJQ8N...</td>\n",
              "      <td>C3PI_Reference</td>\n",
              "      <td>CLEOCIN 75MG</td>\n",
              "      <td>PillProjectDisc95</td>\n",
              "      <td>images</td>\n",
              "      <td>MJ8SIXGLA!IDK6QKOJQ8N5DOBZIKHE.JPG</td>\n",
              "      <td>.CR2</td>\n",
              "      <td>000090331</td>\n",
              "    </tr>\n",
              "    <tr>\n",
              "      <th>2949</th>\n",
              "      <td>00009033102</td>\n",
              "      <td>1</td>\n",
              "      <td>PillProjectDisc107/images/XW27OGQ!GSTCS6SVCFSE...</td>\n",
              "      <td>C3PI_Test</td>\n",
              "      <td>CLEOCIN 75MG</td>\n",
              "      <td>PillProjectDisc107</td>\n",
              "      <td>images</td>\n",
              "      <td>XW27OGQ!GSTCS6SVCFSE6F!WHA7PYT.JPG</td>\n",
              "      <td>.JPG</td>\n",
              "      <td>000090331</td>\n",
              "    </tr>\n",
              "    <tr>\n",
              "      <th>2950</th>\n",
              "      <td>00009033102</td>\n",
              "      <td>1</td>\n",
              "      <td>PillProjectDisc13/images/9CLLUNVVKAJ4Y!Q0R_4_H...</td>\n",
              "      <td>C3PI_Test</td>\n",
              "      <td>CLEOCIN 75MG</td>\n",
              "      <td>PillProjectDisc13</td>\n",
              "      <td>images</td>\n",
              "      <td>9CLLUNVVKAJ4Y!Q0R_4_H0I4EVZG5C.JPG</td>\n",
              "      <td>.JPG</td>\n",
              "      <td>000090331</td>\n",
              "    </tr>\n",
              "    <tr>\n",
              "      <th>2951</th>\n",
              "      <td>00009033102</td>\n",
              "      <td>1</td>\n",
              "      <td>PillProjectDisc17/images/B18QCJP3ZMIWFPGXJZ4R3...</td>\n",
              "      <td>C3PI_Test</td>\n",
              "      <td>CLEOCIN 75MG</td>\n",
              "      <td>PillProjectDisc17</td>\n",
              "      <td>images</td>\n",
              "      <td>B18QCJP3ZMIWFPGXJZ4R3I-OL2GR6Z-.JPG</td>\n",
              "      <td>.JPG</td>\n",
              "      <td>000090331</td>\n",
              "    </tr>\n",
              "    <tr>\n",
              "      <th>...</th>\n",
              "      <td>...</td>\n",
              "      <td>...</td>\n",
              "      <td>...</td>\n",
              "      <td>...</td>\n",
              "      <td>...</td>\n",
              "      <td>...</td>\n",
              "      <td>...</td>\n",
              "      <td>...</td>\n",
              "      <td>...</td>\n",
              "      <td>...</td>\n",
              "    </tr>\n",
              "    <tr>\n",
              "      <th>127776</th>\n",
              "      <td>68180047901</td>\n",
              "      <td>1</td>\n",
              "      <td>PillProjectDisc42/images/BP4V9ZT0LMIB4BO872E-W...</td>\n",
              "      <td>MC_COOKED_CALIBRATED_V1.2</td>\n",
              "      <td>SIMVASTATIN</td>\n",
              "      <td>PillProjectDisc42</td>\n",
              "      <td>images</td>\n",
              "      <td>BP4V9ZT0LMIB4BO872E-WK025340X84.JPG</td>\n",
              "      <td>.PNG</td>\n",
              "      <td>681800479</td>\n",
              "    </tr>\n",
              "    <tr>\n",
              "      <th>127777</th>\n",
              "      <td>68180047901</td>\n",
              "      <td>1</td>\n",
              "      <td>PillProjectDisc51/images/BXRU3YZEHJU82Z4XML43I...</td>\n",
              "      <td>MC_COOKED_CALIBRATED_V1.2</td>\n",
              "      <td>SIMVASTATIN</td>\n",
              "      <td>PillProjectDisc51</td>\n",
              "      <td>images</td>\n",
              "      <td>BXRU3YZEHJU82Z4XML43IK7X1JWYWH7.JPG</td>\n",
              "      <td>.PNG</td>\n",
              "      <td>681800479</td>\n",
              "    </tr>\n",
              "    <tr>\n",
              "      <th>127778</th>\n",
              "      <td>68180047901</td>\n",
              "      <td>1</td>\n",
              "      <td>PillProjectDisc72/images/CN_3M1A3P5IO95ONJAKUI...</td>\n",
              "      <td>MC_COOKED_CALIBRATED_V1.2</td>\n",
              "      <td>SIMVASTATIN</td>\n",
              "      <td>PillProjectDisc72</td>\n",
              "      <td>images</td>\n",
              "      <td>CN_3M1A3P5IO95ONJAKUIFJYQC18Y9_.JPG</td>\n",
              "      <td>.PNG</td>\n",
              "      <td>681800479</td>\n",
              "    </tr>\n",
              "    <tr>\n",
              "      <th>127779</th>\n",
              "      <td>68180047901</td>\n",
              "      <td>1</td>\n",
              "      <td>PillProjectDisc83/images/CY8E7A05V71HWIUH2IQOZ...</td>\n",
              "      <td>MC_COOKED_CALIBRATED_V1.2</td>\n",
              "      <td>SIMVASTATIN</td>\n",
              "      <td>PillProjectDisc83</td>\n",
              "      <td>images</td>\n",
              "      <td>CY8E7A05V71HWIUH2IQOZYMM-2BJSD8.JPG</td>\n",
              "      <td>.PNG</td>\n",
              "      <td>681800479</td>\n",
              "    </tr>\n",
              "    <tr>\n",
              "      <th>127780</th>\n",
              "      <td>68180047901</td>\n",
              "      <td>1</td>\n",
              "      <td>PillProjectDisc2/images/-D0ICD37VEPDJZ5ZNLB4WS...</td>\n",
              "      <td>MC_SPL_SPLIMAGE_V3.0</td>\n",
              "      <td>SIMVASTATIN</td>\n",
              "      <td>PillProjectDisc2</td>\n",
              "      <td>images</td>\n",
              "      <td>-D0ICD37VEPDJZ5ZNLB4WSHBEP_TUD.JPG</td>\n",
              "      <td>.JPG</td>\n",
              "      <td>681800479</td>\n",
              "    </tr>\n",
              "  </tbody>\n",
              "</table>\n",
              "<p>607 rows × 10 columns</p>\n",
              "</div>"
            ],
            "text/plain": [
              "                NDC  IDK  ... FILETYPE   NDC_prod\n",
              "2946    00009033102    1  ...     .CR2  000090331\n",
              "2947    00009033102    1  ...     .CR2  000090331\n",
              "2949    00009033102    1  ...     .JPG  000090331\n",
              "2950    00009033102    1  ...     .JPG  000090331\n",
              "2951    00009033102    1  ...     .JPG  000090331\n",
              "...             ...  ...  ...      ...        ...\n",
              "127776  68180047901    1  ...     .PNG  681800479\n",
              "127777  68180047901    1  ...     .PNG  681800479\n",
              "127778  68180047901    1  ...     .PNG  681800479\n",
              "127779  68180047901    1  ...     .PNG  681800479\n",
              "127780  68180047901    1  ...     .JPG  681800479\n",
              "\n",
              "[607 rows x 10 columns]"
            ]
          },
          "metadata": {
            "tags": []
          },
          "execution_count": 37
        }
      ]
    },
    {
      "cell_type": "code",
      "metadata": {
        "id": "OIP1pl2bKeVg",
        "colab_type": "code",
        "colab": {}
      },
      "source": [
        "df.to_csv('../Data/rxid15.csv')"
      ],
      "execution_count": 0,
      "outputs": []
    },
    {
      "cell_type": "code",
      "metadata": {
        "id": "wVynX13yKeVi",
        "colab_type": "code",
        "colab": {}
      },
      "source": [
        ""
      ],
      "execution_count": 0,
      "outputs": []
    }
  ]
}